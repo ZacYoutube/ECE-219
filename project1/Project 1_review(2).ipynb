{
 "cells": [
  {
   "cell_type": "markdown",
   "metadata": {},
   "source": [
    "# Project 1: End-to-End Pipeline to Classify News Articles"
   ]
  },
  {
   "cell_type": "markdown",
   "metadata": {},
   "source": [
    "##### Group Member\n",
    "Yifu Yuan, 804973353  \n",
    "Zhiquan You, 205667859  \n",
    "Wenxuan Wu, 705846929"
   ]
  },
  {
   "cell_type": "markdown",
   "metadata": {},
   "source": [
    "#### Data Preparation"
   ]
  },
  {
   "cell_type": "code",
   "execution_count": 1,
   "metadata": {},
   "outputs": [
    {
     "data": {
      "text/html": [
       "<div>\n",
       "<style scoped>\n",
       "    .dataframe tbody tr th:only-of-type {\n",
       "        vertical-align: middle;\n",
       "    }\n",
       "\n",
       "    .dataframe tbody tr th {\n",
       "        vertical-align: top;\n",
       "    }\n",
       "\n",
       "    .dataframe thead th {\n",
       "        text-align: right;\n",
       "    }\n",
       "</style>\n",
       "<table border=\"1\" class=\"dataframe\">\n",
       "  <thead>\n",
       "    <tr style=\"text-align: right;\">\n",
       "      <th></th>\n",
       "      <th>Unnamed: 0</th>\n",
       "      <th>full_text</th>\n",
       "      <th>summary</th>\n",
       "      <th>keywords</th>\n",
       "      <th>publish_date</th>\n",
       "      <th>authors</th>\n",
       "      <th>url</th>\n",
       "      <th>leaf_label</th>\n",
       "      <th>root_label</th>\n",
       "    </tr>\n",
       "  </thead>\n",
       "  <tbody>\n",
       "    <tr>\n",
       "      <th>0</th>\n",
       "      <td>590</td>\n",
       "      <td>Having made a massive impact in Saudi Arabia w...</td>\n",
       "      <td>Having made a massive impact in Saudi Arabia w...</td>\n",
       "      <td>['singhs', 'rooting', 'cool', 'saudi', 'style'...</td>\n",
       "      <td>NaN</td>\n",
       "      <td>[]</td>\n",
       "      <td>https://www.msn.com/en-in/entertainment/other/...</td>\n",
       "      <td>cricket</td>\n",
       "      <td>sports</td>\n",
       "    </tr>\n",
       "    <tr>\n",
       "      <th>1</th>\n",
       "      <td>388</td>\n",
       "      <td>Cricket is all about the emotional rollercoast...</td>\n",
       "      <td>No matter which team fans hope to win, every s...</td>\n",
       "      <td>['wants', 'fans', 'finals', 'cup', 'win', 'tou...</td>\n",
       "      <td>NaN</td>\n",
       "      <td>[]</td>\n",
       "      <td>https://www.prnewswire.com:443/news-releases/c...</td>\n",
       "      <td>cricket</td>\n",
       "      <td>sports</td>\n",
       "    </tr>\n",
       "    <tr>\n",
       "      <th>2</th>\n",
       "      <td>423</td>\n",
       "      <td>New Zealand announces back-to-back tours next ...</td>\n",
       "      <td>New Zealand announces back-to-back tours next ...</td>\n",
       "      <td>['test', 'west', 'tour', 'zealand', 'world', '...</td>\n",
       "      <td>2021-12-20 00:00:00</td>\n",
       "      <td>[]</td>\n",
       "      <td>https://www.aljazeera.com/news/2021/12/20/cric...</td>\n",
       "      <td>cricket</td>\n",
       "      <td>sports</td>\n",
       "    </tr>\n",
       "    <tr>\n",
       "      <th>3</th>\n",
       "      <td>563</td>\n",
       "      <td>It's not the first time cricket fans in the co...</td>\n",
       "      <td>Billed as one of the pre-tournament favourites...</td>\n",
       "      <td>['qualify', 'afghanistan', 'cup', 'world', 'ze...</td>\n",
       "      <td>NaN</td>\n",
       "      <td>[]</td>\n",
       "      <td>https://www.msn.com/en-in/news/other/t20-world...</td>\n",
       "      <td>cricket</td>\n",
       "      <td>sports</td>\n",
       "    </tr>\n",
       "    <tr>\n",
       "      <th>4</th>\n",
       "      <td>634</td>\n",
       "      <td>An employee works on a computer terminal again...</td>\n",
       "      <td>REUTERS/Sivaram VBENGALURU, Oct 11 (Reuters Br...</td>\n",
       "      <td>['success', 'tech', 'startup', 'talent', 'onli...</td>\n",
       "      <td>2021-10-11 00:00:00</td>\n",
       "      <td>['Una Galani']</td>\n",
       "      <td>https://www.reuters.com/breakingviews/india-in...</td>\n",
       "      <td>cricket</td>\n",
       "      <td>sports</td>\n",
       "    </tr>\n",
       "  </tbody>\n",
       "</table>\n",
       "</div>"
      ],
      "text/plain": [
       "   Unnamed: 0                                          full_text  \\\n",
       "0         590  Having made a massive impact in Saudi Arabia w...   \n",
       "1         388  Cricket is all about the emotional rollercoast...   \n",
       "2         423  New Zealand announces back-to-back tours next ...   \n",
       "3         563  It's not the first time cricket fans in the co...   \n",
       "4         634  An employee works on a computer terminal again...   \n",
       "\n",
       "                                             summary  \\\n",
       "0  Having made a massive impact in Saudi Arabia w...   \n",
       "1  No matter which team fans hope to win, every s...   \n",
       "2  New Zealand announces back-to-back tours next ...   \n",
       "3  Billed as one of the pre-tournament favourites...   \n",
       "4  REUTERS/Sivaram VBENGALURU, Oct 11 (Reuters Br...   \n",
       "\n",
       "                                            keywords         publish_date  \\\n",
       "0  ['singhs', 'rooting', 'cool', 'saudi', 'style'...                  NaN   \n",
       "1  ['wants', 'fans', 'finals', 'cup', 'win', 'tou...                  NaN   \n",
       "2  ['test', 'west', 'tour', 'zealand', 'world', '...  2021-12-20 00:00:00   \n",
       "3  ['qualify', 'afghanistan', 'cup', 'world', 'ze...                  NaN   \n",
       "4  ['success', 'tech', 'startup', 'talent', 'onli...  2021-10-11 00:00:00   \n",
       "\n",
       "          authors                                                url  \\\n",
       "0              []  https://www.msn.com/en-in/entertainment/other/...   \n",
       "1              []  https://www.prnewswire.com:443/news-releases/c...   \n",
       "2              []  https://www.aljazeera.com/news/2021/12/20/cric...   \n",
       "3              []  https://www.msn.com/en-in/news/other/t20-world...   \n",
       "4  ['Una Galani']  https://www.reuters.com/breakingviews/india-in...   \n",
       "\n",
       "  leaf_label root_label  \n",
       "0    cricket     sports  \n",
       "1    cricket     sports  \n",
       "2    cricket     sports  \n",
       "3    cricket     sports  \n",
       "4    cricket     sports  "
      ]
     },
     "execution_count": 1,
     "metadata": {},
     "output_type": "execute_result"
    }
   ],
   "source": [
    "import pandas as pd\n",
    "\n",
    "dataset = pd.read_csv(\"project1_dataset.csv\")\n",
    "dataset.head()"
   ]
  },
  {
   "cell_type": "markdown",
   "metadata": {},
   "source": [
    "## Getting familiar with the dataset"
   ]
  },
  {
   "cell_type": "markdown",
   "metadata": {},
   "source": [
    "### Question 1"
   ]
  },
  {
   "cell_type": "markdown",
   "metadata": {},
   "source": [
    "##### part 1"
   ]
  },
  {
   "cell_type": "code",
   "execution_count": 2,
   "metadata": {},
   "outputs": [
    {
     "data": {
      "text/plain": [
       "(2072, 9)"
      ]
     },
     "execution_count": 2,
     "metadata": {},
     "output_type": "execute_result"
    }
   ],
   "source": [
    "dataset.shape"
   ]
  },
  {
   "cell_type": "markdown",
   "metadata": {},
   "source": [
    "There are 2072 samples and 9 features"
   ]
  },
  {
   "cell_type": "markdown",
   "metadata": {},
   "source": [
    "##### part 2"
   ]
  },
  {
   "cell_type": "markdown",
   "metadata": {},
   "source": [
    "**a)**"
   ]
  },
  {
   "cell_type": "code",
   "execution_count": 3,
   "metadata": {},
   "outputs": [
    {
     "data": {
      "image/png": "[encoded data removed]",
      "text/plain": [
       "<Figure size 432x288 with 1 Axes>"
      ]
     },
     "metadata": {
      "needs_background": "light"
     },
     "output_type": "display_data"
    }
   ],
   "source": [
    "import matplotlib.pyplot as plt\n",
    "\n",
    "full_texts = dataset[\"full_text\"]\n",
    "full_texts_len = [len(text) for text in full_texts]\n",
    "plt.hist(full_texts_len, bins=50)\n",
    "plt.ylabel('frequency')\n",
    "plt.xlabel('count')\n",
    "plt.title('characters per data point')\n",
    "\n",
    "plt.show()"
   ]
  },
  {
   "cell_type": "markdown",
   "metadata": {},
   "source": [
    "**b)**"
   ]
  },
  {
   "cell_type": "code",
   "execution_count": 4,
   "metadata": {},
   "outputs": [
    {
     "data": {
      "image/png": "[encoded data removed]",
      "text/plain": [
       "<Figure size 432x288 with 1 Axes>"
      ]
     },
     "metadata": {
      "needs_background": "light"
     },
     "output_type": "display_data"
    }
   ],
   "source": [
    "from collections import Counter\n",
    "\n",
    "leaf_labels = dataset['leaf_label']\n",
    "leaf_labels_counter = Counter(leaf_labels)\n",
    "\n",
    "plt.bar(leaf_labels_counter.keys(), leaf_labels_counter.values())\n",
    "plt.xticks(rotation=90)\n",
    "plt.ylabel('frequency')\n",
    "plt.xlabel('count')\n",
    "plt.title('leaf label count')\n",
    "\n",
    "plt.show()\n"
   ]
  },
  {
   "cell_type": "markdown",
   "metadata": {},
   "source": [
    "**c)**"
   ]
  },
  {
   "cell_type": "code",
   "execution_count": 5,
   "metadata": {},
   "outputs": [
    {
     "data": {
      "image/png": "[encoded data removed]",
      "text/plain": [
       "<Figure size 432x288 with 1 Axes>"
      ]
     },
     "metadata": {
      "needs_background": "light"
     },
     "output_type": "display_data"
    }
   ],
   "source": [
    "root_labels = dataset['root_label']\n",
    "root_labels_counter = Counter(root_labels)\n",
    "\n",
    "plt.bar(root_labels_counter.keys(), root_labels_counter.values())\n",
    "plt.ylabel('frequency')\n",
    "plt.xlabel('count')\n",
    "plt.title('root label count')\n",
    "\n",
    "plt.show()"
   ]
  },
  {
   "cell_type": "markdown",
   "metadata": {},
   "source": [
    "##### part 3"
   ]
  },
  {
   "cell_type": "markdown",
   "metadata": {},
   "source": [
    "1. From the full text length plot, we can see that most of the samples are short, with no more than 10,000 characters. But there exists some long texts with length up to 40,000.\n",
    "2. From the leaf and root label graphs, we can see that all labels are equally distributed; labels in leaf and root labels have same number of samples in the dataset, respectively. From leaf label count bar plot we observe that frequency of 8 leaf label classes have the count of 259 and in the root labels histogram, there are frequency of 2 root label classes with the count of 1036."
   ]
  },
  {
   "cell_type": "markdown",
   "metadata": {},
   "source": [
    "## Binary Classification"
   ]
  },
  {
   "cell_type": "markdown",
   "metadata": {},
   "source": [
    "##### Set Seed"
   ]
  },
  {
   "cell_type": "code",
   "execution_count": 6,
   "metadata": {},
   "outputs": [],
   "source": [
    "import numpy as np\n",
    "import random\n",
    "np.random.seed(42)\n",
    "random.seed(42)"
   ]
  },
  {
   "cell_type": "markdown",
   "metadata": {},
   "source": [
    "##### Split Training and Testing Data"
   ]
  },
  {
   "cell_type": "code",
   "execution_count": 7,
   "metadata": {},
   "outputs": [],
   "source": [
    "from sklearn.model_selection import train_test_split\n",
    "train, test = train_test_split(dataset[[\"full_text\",\"root_label\", \"leaf_label\", \"keywords\"]], test_size=0.2)"
   ]
  },
  {
   "cell_type": "markdown",
   "metadata": {},
   "source": [
    "### Question 2"
   ]
  },
  {
   "cell_type": "code",
   "execution_count": 8,
   "metadata": {},
   "outputs": [
    {
     "data": {
      "text/plain": [
       "(1657, 415)"
      ]
     },
     "execution_count": 8,
     "metadata": {},
     "output_type": "execute_result"
    }
   ],
   "source": [
    "len(train), len(test)"
   ]
  },
  {
   "cell_type": "markdown",
   "metadata": {},
   "source": [
    "There are 1657 training samples and 415 testing samples"
   ]
  },
  {
   "cell_type": "markdown",
   "metadata": {},
   "source": [
    "### Question 3"
   ]
  },
  {
   "cell_type": "markdown",
   "metadata": {},
   "source": [
    "##### Text Cleaning"
   ]
  },
  {
   "cell_type": "code",
   "execution_count": 9,
   "metadata": {},
   "outputs": [],
   "source": [
    "import re\n",
    "import string\n",
    "# Remove url, number and punctuations here\n",
    "def clean(text):\n",
    "    text = re.sub(r'https?://[^\\s]+', '', text, flags=re.MULTILINE)\n",
    "    texter = re.sub(r\"<br />\", \" \", text)\n",
    "    texter = re.sub(r\"[0-9]\", \"\", texter)\n",
    "    texter = re.compile('[%s]' % re.escape(string.punctuation)).sub('', texter)\n",
    "    texter = re.sub(r\"&quot;\", \"\\\"\",texter)\n",
    "    texter = re.sub('&#39;', \"\\\"\", texter)\n",
    "    texter = re.sub('\\n', \" \", texter)\n",
    "    texter = re.sub(' u ',\" you \", texter)\n",
    "    texter = re.sub('`',\"\", texter)\n",
    "    texter = re.sub(' +', ' ', texter)\n",
    "    texter = re.sub(r\"(!)\\1+\", r\"!\", texter)\n",
    "    texter = re.sub(r\"(\\?)\\1+\", r\"?\", texter)\n",
    "    texter = re.sub('&amp;', 'and', texter)\n",
    "    texter = re.sub('\\r', ' ',texter)\n",
    "    clean = re.compile('<.*?>')\n",
    "    texter = texter.encode('ascii', 'ignore').decode('ascii')\n",
    "    texter = re.sub(clean, '', texter)\n",
    "    if texter == \"\":\n",
    "        texter = \"\"\n",
    "    return texter"
   ]
  },
  {
   "cell_type": "code",
   "execution_count": 10,
   "metadata": {},
   "outputs": [],
   "source": [
    "train_texts = train['full_text']\n",
    "test_texts = test['full_text']\n",
    "clean_texts_train = []\n",
    "clean_texts_test = []\n",
    "for text in train_texts:\n",
    "    clean_texts_train.append(clean(text))\n",
    "for text in test_texts:\n",
    "    clean_texts_test.append(clean(text))\n",
    "    \n",
    "assert len(clean_texts_train) + len(clean_texts_test) == len(dataset['full_text'])"
   ]
  },
  {
   "cell_type": "markdown",
   "metadata": {},
   "source": [
    "##### Obtain Vocabulary From Training Data"
   ]
  },
  {
   "cell_type": "code",
   "execution_count": 11,
   "metadata": {},
   "outputs": [
    {
     "name": "stderr",
     "output_type": "stream",
     "text": [
      "[nltk_data] Downloading package wordnet to /Users/zacyou/nltk_data...\n",
      "[nltk_data]   Package wordnet is already up-to-date!\n",
      "[nltk_data] Downloading package averaged_perceptron_tagger to\n",
      "[nltk_data]     /Users/zacyou/nltk_data...\n",
      "[nltk_data]   Package averaged_perceptron_tagger is already up-to-\n",
      "[nltk_data]       date!\n",
      "/Users/zacyou/Library/Python/3.8/lib/python/site-packages/sklearn/utils/deprecation.py:87: FutureWarning: Function get_feature_names is deprecated; get_feature_names is deprecated in 1.0 and will be removed in 1.2. Please use get_feature_names_out instead.\n",
      "  warnings.warn(msg, category=FutureWarning)\n"
     ]
    },
    {
     "name": "stdout",
     "output_type": "stream",
     "text": [
      "Length of vocabulary is 9693\n"
     ]
    }
   ],
   "source": [
    "import nltk\n",
    "from nltk import word_tokenize          \n",
    "from nltk.stem import WordNetLemmatizer\n",
    "from sklearn.feature_extraction.text import CountVectorizer\n",
    "\n",
    "nltk.download('wordnet')\n",
    "nltk.download('averaged_perceptron_tagger')\n",
    "\n",
    "# Remove stopwords by CountVectorizer and get pos_tags of vocab list\n",
    "vectorizer = CountVectorizer(min_df=3, stop_words='english')\n",
    "data_matrix = vectorizer.fit_transform(clean_texts_train)\n",
    "tokens = vectorizer.get_feature_names()\n",
    "pos_tags = nltk.pos_tag(tokens)\n",
    "\n",
    "# Lemmatize vocab list by pos_tag\n",
    "def get_wordnet_pos(treebank_tag):\n",
    "    if treebank_tag.startswith('J'):\n",
    "        return 'a'\n",
    "    elif treebank_tag.startswith('V'):\n",
    "        return 'v'\n",
    "    elif treebank_tag.startswith('N'):\n",
    "        return 'n'\n",
    "    elif treebank_tag.startswith('R'):\n",
    "        return 'r'\n",
    "    else:\n",
    "        return 'n'\n",
    "wnl = WordNetLemmatizer()\n",
    "vocab = [wnl.lemmatize(t[0], get_wordnet_pos(t[1])) for t in pos_tags]\n",
    "vocab = list(set(vocab))\n",
    "print(\"Length of vocabulary is {}\".format(len(vocab)))\n",
    "\n",
    "# PorterStemmer\n"
   ]
  },
  {
   "cell_type": "markdown",
   "metadata": {},
   "source": [
    "##### TF-IDF Transformation"
   ]
  },
  {
   "cell_type": "code",
   "execution_count": 12,
   "metadata": {},
   "outputs": [],
   "source": [
    "from sklearn.feature_extraction.text import TfidfTransformer\n",
    "from sklearn.pipeline import Pipeline\n",
    "\n",
    "pipe = Pipeline([('count', CountVectorizer(vocabulary=vocab)),\n",
    "                 ('tfid', TfidfTransformer())]).fit(clean_texts_train)\n",
    "train_matrix = pipe['count'].transform(clean_texts_train).toarray()\n",
    "train_idf_matrix = pipe.transform(clean_texts_train)\n",
    "test_idf_matrix = pipe.transform(clean_texts_test)\n"
   ]
  },
  {
   "cell_type": "code",
   "execution_count": 13,
   "metadata": {},
   "outputs": [
    {
     "data": {
      "text/plain": [
       "((1657, 9693), (415, 9693))"
      ]
     },
     "execution_count": 13,
     "metadata": {},
     "output_type": "execute_result"
    }
   ],
   "source": [
    "train_idf_matrix.shape, test_idf_matrix.shape"
   ]
  },
  {
   "cell_type": "markdown",
   "metadata": {},
   "source": [
    "##### Part 1 What are the pros and cons of lemmatization versus stemming? How do these processes affect the dictionary size?\n"
   ]
  },
  {
   "cell_type": "markdown",
   "metadata": {},
   "source": [
    "1. Stemming is a procedure to get rid of inflectional and derivational suffixes from the words and aims to merge different word forms into one canonical form. Stemming has the advantage of efficiency as it does not care about pos tag; all it has to do is to shrink each token to its stem. The disadvantage is also obvious as stemming cannot distinguish token meaning and context and often outputs non-English words as intermediate results.\n",
    "2. Lemmatization is a procedure to reduce an inflectional or derivational word form to the dictionary form and group together words with the same root or lemma but with different derivatives of meaning as one term. It often uses the context in which the word is being used, as opposed to stemming which only uses the stem of word. The pros of lemmatization is that it can maintain morphological information of words in different context, which makes it suitable for more tasks instead of merely keeping track of frequencies of tokens. On the other hand, this functionality comes at the cost of more computation than stemming.\n",
    "3. Intuitively, lemmatization will keep track of multiple forms of a word, i.e., noun, adj, adv and so on. Therefore, lemmatization will result in a bigger dictionary than stemming."
   ]
  },
  {
   "cell_type": "markdown",
   "metadata": {},
   "source": [
    "##### Part 2 min df means minimum document frequency. How does varying min df change the TF-IDF matrix?\n"
   ]
  },
  {
   "cell_type": "markdown",
   "metadata": {},
   "source": [
    "min_df is used for removing the terms that appear too infrequently in the documents. It means that if a word appears in less than min_df number of documents, it will ignore that term. Conversely, if a word appears more than min_df documents, it will be recorded in the vocabulary. In other words, this parameter acts like a shreshold of word frequency in the vocabulary. Thus, a larger min_df will shrink the column size of TF-IDF matrix and a smaller min_df will expand it."
   ]
  },
  {
   "cell_type": "markdown",
   "metadata": {},
   "source": [
    "##### Part 3 Should I remove stopwords before or after lemmatizing? Should I remove punctuations before or after lemmatizing? Should I remove numbers before or after lemmatizing?\n"
   ]
  },
  {
   "cell_type": "markdown",
   "metadata": {},
   "source": [
    "1. Stopwords should be removed BEFORE lemmatizing since some of the stopwords in a text would be lemmatized and therefore if we do it after lemmatizing, some stopwords in the corpus will be changed and thus cannot be removed as a result of mismatch.\n",
    "2. Punctuations should be removed BEFORE lemmatizing because words together with punctuations might cause failed lemmatizing. Plus, it really helps to get rid of the unhelpful parts of the data, also known as noise so that we can better perform text analysis.\n",
    "3. Since we are dealing with text data, so the number does not add much information to our text processing. Therefore, numbers should be removed BEFORE lemmatizing because of the same reason as punctuations; to make it easier for us to perform text analysis."
   ]
  },
  {
   "cell_type": "markdown",
   "metadata": {},
   "source": [
    "##### Part 4 Report the shape of the TF-IDF-processed train and test matrices. The number of rows should match the results of Question 2. The number of columns should roughly be in the order of k×103. This dimension will vary depending on your exact method of cleaning and lemmatizing and that is okay.\n"
   ]
  },
  {
   "cell_type": "markdown",
   "metadata": {},
   "source": [
    "The dimensions of training and testing TF-IDF matrices are 1657x9693 and 415x9693, respectively."
   ]
  },
  {
   "cell_type": "markdown",
   "metadata": {},
   "source": [
    "#### Dimensionality Reduction"
   ]
  },
  {
   "cell_type": "markdown",
   "metadata": {},
   "source": [
    "### Question 4"
   ]
  },
  {
   "cell_type": "markdown",
   "metadata": {},
   "source": [
    "##### part 1 Plot the explained variance ratio across multiple different k = [1, 10, 50, 100, 200, 500, 1000, 2000] for LSI and for the next few sections choose k = 50. What does the explained variance ratio plot look like? What does the plot’s concavity suggest?"
   ]
  },
  {
   "cell_type": "code",
   "execution_count": 14,
   "metadata": {},
   "outputs": [
    {
     "data": {
      "image/png": "[encoded data removed]",
      "text/plain": [
       "<Figure size 432x288 with 1 Axes>"
      ]
     },
     "metadata": {
      "needs_background": "light"
     },
     "output_type": "display_data"
    }
   ],
   "source": [
    "from sklearn.decomposition import TruncatedSVD\n",
    "import matplotlib.pyplot as plt\n",
    "k_list = [1, 10, 50, 100, 200, 500, 1000, 2000]\n",
    "explained_ratio = []\n",
    "for k in k_list:\n",
    "    svd = TruncatedSVD(n_components=k)\n",
    "    svd.fit(train_idf_matrix)\n",
    "    explained_ratio.append(svd.explained_variance_ratio_.sum())\n",
    "\n",
    "plt.plot(k_list, explained_ratio)\n",
    "plt.title('explained variance ratio of different k')\n",
    "plt.ylabel('explained variance ratio')\n",
    "plt.show()"
   ]
  },
  {
   "cell_type": "markdown",
   "metadata": {},
   "source": [
    "1. The plot looks similar to a square root diagram. The explained variance ratio is the percentage of variance that is attributed by each of the component. From our chart we can observe that As the value of k (number of desired dimensionality of the output data) increases, the cumulative explained variance ratio also gradually increases. \n",
    "2. The graph's concavity indicates the amount of data that can be described in the first 1000 components (or number of dimensions) is more than that of the latter components, although it is noted that the cumulative explained variance is lower than 1.0 when the number of components is less than 2000. The concavity suggests that the explained variance ratio will get more and more close to 1.0 but never reach 1.0, and the increase of the explained variance will be less as the value of k becomes large. "
   ]
  },
  {
   "cell_type": "markdown",
   "metadata": {},
   "source": [
    "##### part 2 With k = 50 found in the previous sections, calculate the reconstruction residual MSE error when using LSI and NMF – they both should use the same k = 50. Which one is larger, ..."
   ]
  },
  {
   "cell_type": "code",
   "execution_count": 15,
   "metadata": {},
   "outputs": [
    {
     "name": "stderr",
     "output_type": "stream",
     "text": [
      "/Users/zacyou/Library/Python/3.8/lib/python/site-packages/sklearn/utils/extmath.py:368: FutureWarning: If 'random_state' is not supplied, the current default is to use 0 as a fixed seed. This will change to  None in version 1.2 leading to non-deterministic results that better reflect nature of the randomized_svd solver. If you want to silence this warning, set 'random_state' to an integer seed or to None explicitly depending if you want your code to be deterministic or not.\n",
      "  warnings.warn(\n",
      "/Users/zacyou/Library/Python/3.8/lib/python/site-packages/sklearn/decomposition/_nmf.py:289: FutureWarning: The 'init' value, when 'init=None' and n_components is less than n_samples and n_features, will be changed from 'nndsvd' to 'nndsvda' in 1.1 (renaming of 0.26).\n",
      "  warnings.warn(\n"
     ]
    },
    {
     "name": "stdout",
     "output_type": "stream",
     "text": [
      "RR MSE of LSI is 1185.7457736560957\n",
      "RR MSE of NMF is 1206.2772834714476\n"
     ]
    }
   ],
   "source": [
    "from sklearn.utils.extmath import randomized_svd\n",
    "from sklearn.decomposition import NMF\n",
    "import numpy as np\n",
    "\n",
    "U, S, Vt = randomized_svd(train_idf_matrix, n_components=50)\n",
    "MSE_LSI = np.linalg.norm(train_idf_matrix - U.dot(np.diag(S)).dot(Vt), 'fro') ** 2\n",
    "\n",
    "nmf = NMF(n_components=50)\n",
    "MSE_NMF = np.linalg.norm(train_idf_matrix - nmf.fit_transform(train_idf_matrix).dot(nmf.components_), 'fro') ** 2\n",
    "\n",
    "print(\"RR MSE of LSI is {}\".format(MSE_LSI))\n",
    "print(\"RR MSE of NMF is {}\".format(MSE_NMF))"
   ]
  },
  {
   "cell_type": "code",
   "execution_count": 16,
   "metadata": {},
   "outputs": [
    {
     "name": "stdout",
     "output_type": "stream",
     "text": [
      "[0.0060977412028342505, 0.11572900437564618, 0.26226012766266005, 0.3564929184843187, 0.48398688638067866, 0.7166974335991911, 0.9179594156916051, 1.0]\n"
     ]
    }
   ],
   "source": [
    "print(explained_ratio)"
   ]
  },
  {
   "cell_type": "markdown",
   "metadata": {},
   "source": [
    "As we can see, the reconstruction residual error for NMF is larger than the error of the LSI. That might be because in the NMF, it has both the non negative matrices W and H, which is one of its strict requirements stated by its definition. That limits the degree of freedom of the NMF to find the vectors that can minimize the error. While LSI doesn't have this restriction and thus it has more degree of freedom of finding the best vectors. As a result, LSI is better representing the higher-dimensinal feature matrix, and it can provide a deeper factorization with lower infomation loss than NMI. However, the consequence of NMF's restriction is that it offers a better interpretation of the original data matrix as it is approximated as a sum of positive vectors so that it is easier to inspect. "
   ]
  },
  {
   "cell_type": "markdown",
   "metadata": {},
   "source": [
    "##### Classification Algorithms"
   ]
  },
  {
   "cell_type": "markdown",
   "metadata": {},
   "source": [
    "### Question 5"
   ]
  },
  {
   "cell_type": "markdown",
   "metadata": {},
   "source": [
    "##### Part 1"
   ]
  },
  {
   "cell_type": "code",
   "execution_count": 17,
   "metadata": {},
   "outputs": [
    {
     "name": "stdout",
     "output_type": "stream",
     "text": [
      "(1657, 50)\n",
      "(415, 50)\n",
      "0.9590361445783132\n",
      "0.4963855421686747\n"
     ]
    }
   ],
   "source": [
    "from sklearn.svm import SVC\n",
    "hard_SVM = SVC(kernel='linear', C=1000, probability=True)\n",
    "soft_SVM = SVC(kernel='linear', C=0.0001, probability=True)\n",
    "\n",
    "reduced_train_matrix = train_idf_matrix.dot(Vt.T)\n",
    "reduced_test_matrix = test_idf_matrix.dot(Vt.T)\n",
    "print(reduced_train_matrix.shape)\n",
    "print(reduced_test_matrix.shape)\n",
    "\n",
    "train_labels = list(train['root_label'])\n",
    "test_labels = list(test['root_label'])\n",
    "hard_SVM.fit(reduced_train_matrix, train_labels)\n",
    "soft_SVM.fit(reduced_train_matrix, train_labels)\n",
    "\n",
    "print(hard_SVM.score(reduced_test_matrix, test_labels))\n",
    "print(soft_SVM.score(reduced_test_matrix, test_labels))"
   ]
  },
  {
   "cell_type": "markdown",
   "metadata": {},
   "source": [
    "##### Plot the ROC curve,report the confusion matrix and calculate the accuracy,recall precision and F-1 score of both SVM classifers on the testing set"
   ]
  },
  {
   "cell_type": "code",
   "execution_count": 18,
   "metadata": {},
   "outputs": [
    {
     "data": {
      "image/png": "[encoded data removed]",
      "text/plain": [
       "<Figure size 432x288 with 1 Axes>"
      ]
     },
     "metadata": {
      "needs_background": "light"
     },
     "output_type": "display_data"
    }
   ],
   "source": [
    "from sklearn import metrics\n",
    "predict_proba = hard_SVM.predict_proba(reduced_test_matrix)\n",
    "climate_proba = [predict_proba[i][0] for i in range(len(predict_proba))]\n",
    "\n",
    "fpr, tpr, thresholds = metrics.roc_curve(test_labels, climate_proba, pos_label='climate')\n",
    "plt.plot(fpr, tpr)\n",
    "plt.xlabel('False Positive Rate')\n",
    "plt.ylabel('True Positive Rate')\n",
    "plt.title('ROC Curve of Hard SVM')\n",
    "plt.show()"
   ]
  },
  {
   "cell_type": "code",
   "execution_count": 19,
   "metadata": {},
   "outputs": [
    {
     "data": {
      "image/png": "[encoded data removed]",
      "text/plain": [
       "<Figure size 432x288 with 1 Axes>"
      ]
     },
     "metadata": {
      "needs_background": "light"
     },
     "output_type": "display_data"
    }
   ],
   "source": [
    "predict_proba = soft_SVM.predict_proba(reduced_test_matrix)\n",
    "climate_proba = predict_proba[:,1]\n",
    "\n",
    "fpr, tpr, thresholds = metrics.roc_curve(test_labels, climate_proba, pos_label='climate')\n",
    "plt.plot(fpr, tpr)\n",
    "plt.xlabel('False Positive Rate')\n",
    "plt.ylabel('True Positive Rate')\n",
    "plt.title('ROC Curve of Soft SVM')\n",
    "plt.show()"
   ]
  },
  {
   "cell_type": "code",
   "execution_count": 86,
   "metadata": {},
   "outputs": [
    {
     "name": "stdout",
     "output_type": "stream",
     "text": [
      "The following is the confusion matrix for hard SVM:\n",
      "[[202   7]\n",
      " [ 10 196]]\n",
      "The following is the confusion matrix for soft SVM:\n",
      "[[  0 209]\n",
      " [  0 206]]\n",
      "The following is the confusion matrix for hard SVM:\n"
     ]
    },
    {
     "data": {
      "image/png": "[encoded data removed]",
      "text/plain": [
       "<Figure size 432x288 with 2 Axes>"
      ]
     },
     "metadata": {
      "needs_background": "light"
     },
     "output_type": "display_data"
    },
    {
     "name": "stdout",
     "output_type": "stream",
     "text": [
      "The following is the confusion matrix for soft SVM:\n"
     ]
    },
    {
     "data": {
      "image/png": "[encoded data removed]",
      "text/plain": [
       "<Figure size 432x288 with 2 Axes>"
      ]
     },
     "metadata": {
      "needs_background": "light"
     },
     "output_type": "display_data"
    }
   ],
   "source": [
    "from sklearn.metrics import confusion_matrix, ConfusionMatrixDisplay\n",
    "\n",
    "\n",
    "hard_SVM_prediction = hard_SVM.predict(reduced_test_matrix)\n",
    "soft_SVM_prediction = soft_SVM.predict(reduced_test_matrix)\n",
    "confusion_matrix_hard = metrics.confusion_matrix(y_true=test_labels, y_pred=hard_SVM_prediction, labels=['sports', 'climate'])\n",
    "confusion_matrix_soft = metrics.confusion_matrix(y_true=test_labels, y_pred=soft_SVM_prediction, labels=['sports', 'climate'])\n",
    "\n",
    "print(\"The following is the confusion matrix for hard SVM:\")\n",
    "print(confusion_matrix_hard)\n",
    "print(\"The following is the confusion matrix for soft SVM:\")\n",
    "print(confusion_matrix_soft)\n",
    "\n",
    "print(\"The following is the confusion matrix for hard SVM:\")\n",
    "cm1 = ConfusionMatrixDisplay(confusion_matrix=confusion_matrix_hard, display_labels=['sports', 'climate'])\n",
    "cm1.plot()\n",
    "plt.show()\n",
    "print(\"The following is the confusion matrix for soft SVM:\")\n",
    "cm2 = ConfusionMatrixDisplay(confusion_matrix=confusion_matrix_soft, display_labels=['sports', 'climate'])\n",
    "cm2.plot()\n",
    "plt.show()\n",
    "\n",
    "# cm2 = plot_confusion_matrix(soft_SVM, reduced_test_matrix, test_labels, labels=['sports', 'climate']) "
   ]
  },
  {
   "cell_type": "code",
   "execution_count": 88,
   "metadata": {},
   "outputs": [
    {
     "name": "stdout",
     "output_type": "stream",
     "text": [
      "Precision of hard SVM is 0.9591737150292778\n",
      "Recall of hard SVM is 0.9589817438565522\n",
      "F1-Score of hard SVM is 0.9590275801590114\n",
      "Accuracy of hard SVM is 0.9590361445783132\n"
     ]
    }
   ],
   "source": [
    "from sklearn.metrics import accuracy_score\n",
    "from sklearn.metrics import precision_score\n",
    "from sklearn.metrics import recall_score\n",
    "from sklearn.metrics import f1_score\n",
    "\n",
    "accuracy = accuracy_score(test_labels, hard_SVM_prediction)\n",
    "precision = precision_score(test_labels, hard_SVM_prediction, average='macro')\n",
    "recall = recall_score(test_labels, hard_SVM_prediction, average='macro')\n",
    "f1 = f1_score(test_labels, hard_SVM_prediction, average='macro')\n",
    "\n",
    "print(\"Precision of hard SVM is {}\".format(precision))\n",
    "print(\"Recall of hard SVM is {}\".format(recall))\n",
    "print(\"F1-Score of hard SVM is {}\".format(f1))\n",
    "print(\"Accuracy of hard SVM is {}\".format(accuracy))"
   ]
  },
  {
   "cell_type": "code",
   "execution_count": 22,
   "metadata": {},
   "outputs": [
    {
     "name": "stdout",
     "output_type": "stream",
     "text": [
      "Precision of soft SVM is 0.24819277108433735\n",
      "Recall of soft SVM is 0.5\n",
      "F1-Score of soft SVM is 0.33172302737520126\n",
      "Accuracy of soft SVM is 0.4963855421686747\n"
     ]
    },
    {
     "name": "stderr",
     "output_type": "stream",
     "text": [
      "/Users/zacyou/Library/Python/3.8/lib/python/site-packages/sklearn/metrics/_classification.py:1318: UndefinedMetricWarning: Precision is ill-defined and being set to 0.0 in labels with no predicted samples. Use `zero_division` parameter to control this behavior.\n",
      "  _warn_prf(average, modifier, msg_start, len(result))\n"
     ]
    }
   ],
   "source": [
    "accuracy = accuracy_score(test_labels, soft_SVM_prediction)\n",
    "precision = precision_score(test_labels, soft_SVM_prediction, average='macro')\n",
    "recall = recall_score(test_labels, soft_SVM_prediction, average='macro')\n",
    "f1 = f1_score(test_labels, soft_SVM_prediction, average='macro')\n",
    "\n",
    "print(\"Precision of soft SVM is {}\".format(precision))\n",
    "print(\"Recall of soft SVM is {}\".format(recall))\n",
    "print(\"F1-Score of soft SVM is {}\".format(f1))\n",
    "print(\"Accuracy of soft SVM is {}\".format(accuracy))"
   ]
  },
  {
   "cell_type": "code",
   "execution_count": 23,
   "metadata": {},
   "outputs": [
    {
     "name": "stdout",
     "output_type": "stream",
     "text": [
      "Precision of y=100000 SVM is 0.9591737150292778\n",
      "Recall of y=100000 SVM is 0.9589817438565522\n",
      "F1-Score of y=100000 SVM is 0.9590275801590114\n",
      "Accuracy of y=100000 SVM is 0.9590361445783132\n"
     ]
    }
   ],
   "source": [
    "very_hard_SVM = SVC(kernel='linear', C=100000, probability=True)\n",
    "very_hard_SVM.fit(reduced_train_matrix, train_labels)\n",
    "very_hard_SVM_prediction = very_hard_SVM.predict(reduced_test_matrix)\n",
    "confusion_matrix_very_hard = metrics.confusion_matrix(y_true=test_labels, y_pred=very_hard_SVM_prediction, labels=['sports', 'climate'])\n",
    "\n",
    "accuracy = accuracy_score(test_labels, very_hard_SVM_prediction)\n",
    "precision = precision_score(test_labels, very_hard_SVM_prediction, average='macro')\n",
    "recall = recall_score(test_labels, very_hard_SVM_prediction, average='macro')\n",
    "f1 = f1_score(test_labels, very_hard_SVM_prediction, average='macro')\n",
    "print(\"Precision of y=100000 SVM is {}\".format(precision))\n",
    "print(\"Recall of y=100000 SVM is {}\".format(recall))\n",
    "print(\"F1-Score of y=100000 SVM is {}\".format(f1))\n",
    "print(\"Accuracy of y=100000 SVM is {}\".format(accuracy))"
   ]
  },
  {
   "cell_type": "markdown",
   "metadata": {},
   "source": [
    "##### Which one performs better? "
   ]
  },
  {
   "cell_type": "markdown",
   "metadata": {},
   "source": [
    "a. The two ROC plots and all metrics are reported as above. We can observe that the hard SVM performs better as its metrics outperform those of soft SVM. Therefore, the hard SVM is better than the soft SVM.  "
   ]
  },
  {
   "cell_type": "markdown",
   "metadata": {},
   "source": [
    "##### What about for γ=100000?"
   ]
  },
  {
   "cell_type": "markdown",
   "metadata": {},
   "source": [
    "b. For SVM with trade-off parameter y being 100000, we can see that its metrics are identical to those of hard SVM, which shows that a huge trade-off parameter does not guarantee to improve model performance, or it might even overfit the model."
   ]
  },
  {
   "cell_type": "markdown",
   "metadata": {},
   "source": [
    "##### What happens for the soft margin SVM? Why is the case? Analyze in terms of the confusion matrix"
   ]
  },
  {
   "cell_type": "markdown",
   "metadata": {},
   "source": [
    "c. From the confusion matrix of soft SVM, we can see that it classifies all instances to be 'climate'. As there are almost the same number of instances from two labels, the resulting model is no better than a coin flip. The reason for such poor classificaion power is because of  the small trade-off parameter which causes the model to underfit. When y=0.0001, the model almost does not penalize misclassification but only focuses on maximizing the margin between two classes, maing the hinge loss less important. Therefore, the model chooses to classify all instances to be 'climiate' in order to maximize the margin. Hence, the soft SVM does not perform well."
   ]
  },
  {
   "cell_type": "markdown",
   "metadata": {},
   "source": [
    "##### Does the ROC curve of the soft margin SVM look competitive? Please explain."
   ]
  },
  {
   "cell_type": "markdown",
   "metadata": {},
   "source": [
    "*. By examing the ROC curve of the soft margin SVM from above, we can easily tell that it conflicts with the confusion matrix metrics where the accuracy, precision, and F1 score are performing poorly while its ROC curve does look competitive as its area under curve (AUC) is close to 1. Yet by other metrics we know that soft SVM in this case is not really reliable. As we can see that the soft SVM has a high misclassification rate for one class while low for the other one (since its classifying all to the climate label), we can see that SVM is failing to distinguish among the classes due to the wider margin. "
   ]
  },
  {
   "cell_type": "markdown",
   "metadata": {},
   "source": [
    "##### Part 2。 Use cross-validation to choose γ (use average validation accuracy to compare):Using a 5-fold cross-validation,find the best value of the parameterγ in the range{10k|−3≤k≤6,k∈Z}.Again,plot the ROC curve and report the confusion matrix and calculate the accuracy,recall precision and F-1score of this best SVM."
   ]
  },
  {
   "cell_type": "code",
   "execution_count": 24,
   "metadata": {},
   "outputs": [],
   "source": [
    "from sklearn.model_selection import cross_val_score\n",
    "\n",
    "trade_off_para = [10**k for k in range(-3, 7, 1)]\n",
    "best_score = 0\n",
    "best_y = 0\n",
    "for y in trade_off_para:\n",
    "    clf = SVC(kernel='linear', C=y)\n",
    "    mean_score = np.mean(cross_val_score(clf, reduced_train_matrix, train_labels, cv=5))\n",
    "    if mean_score > best_score:\n",
    "        best_score = mean_score\n",
    "        best_y = y"
   ]
  },
  {
   "cell_type": "code",
   "execution_count": 25,
   "metadata": {},
   "outputs": [
    {
     "name": "stdout",
     "output_type": "stream",
     "text": [
      "The best trade-off parameter y is 100\n"
     ]
    }
   ],
   "source": [
    "print('The best trade-off parameter y is {}'.format(best_y))"
   ]
  },
  {
   "cell_type": "code",
   "execution_count": 89,
   "metadata": {},
   "outputs": [
    {
     "name": "stdout",
     "output_type": "stream",
     "text": [
      "The following is the confusion matrix of gamma=100\n",
      "[[206   3]\n",
      " [ 11 195]]\n",
      "The following is the confusion matrix of gamma=100\n"
     ]
    },
    {
     "data": {
      "image/png": "[encoded data removed]",
      "text/plain": [
       "<Figure size 432x288 with 2 Axes>"
      ]
     },
     "metadata": {
      "needs_background": "light"
     },
     "output_type": "display_data"
    },
    {
     "name": "stdout",
     "output_type": "stream",
     "text": [
      "Precision of best SVM is 0.9670786203044268\n",
      "Recall of best SVM is 0.9661239373809635\n",
      "F1-Score of best SVM is 0.9662413424441035\n",
      "Accuracy of best SVM is 0.9662650602409638\n"
     ]
    }
   ],
   "source": [
    "best_SVM = SVC(kernel='linear', C=best_y, probability=True)\n",
    "best_SVM.fit(reduced_train_matrix, train_labels)\n",
    "best_SVM_prediction = best_SVM.predict(reduced_test_matrix)\n",
    "confusion_matrix_best = metrics.confusion_matrix(y_true=test_labels, y_pred=best_SVM_prediction, labels=['sports', 'climate'])\n",
    "\n",
    "accuracy = accuracy_score(test_labels, best_SVM_prediction)\n",
    "precision = precision_score(test_labels, best_SVM_prediction, average='macro')\n",
    "recall = recall_score(test_labels, best_SVM_prediction, average='macro')\n",
    "f1 = f1_score(test_labels, best_SVM_prediction, average='macro')\n",
    "print(\"The following is the confusion matrix of gamma=100\")\n",
    "print(confusion_matrix_best)\n",
    "\n",
    "print(\"The following is the confusion matrix of gamma=100\")\n",
    "cm_best = ConfusionMatrixDisplay(confusion_matrix=confusion_matrix_best, display_labels=['sports', 'climate'])\n",
    "cm_best.plot()\n",
    "plt.show()\n",
    "\n",
    "print(\"Precision of best SVM is {}\".format(precision))\n",
    "print(\"Recall of best SVM is {}\".format(recall))\n",
    "print(\"F1-Score of best SVM is {}\".format(f1))\n",
    "print(\"Accuracy of best SVM is {}\".format(accuracy))"
   ]
  },
  {
   "cell_type": "code",
   "execution_count": 27,
   "metadata": {},
   "outputs": [
    {
     "data": {
      "image/png": "[encoded data removed]",
      "text/plain": [
       "<Figure size 432x288 with 1 Axes>"
      ]
     },
     "metadata": {
      "needs_background": "light"
     },
     "output_type": "display_data"
    }
   ],
   "source": [
    "import scikitplot as skplt\n",
    "predict_proba = best_SVM.predict_proba(reduced_test_matrix)\n",
    "\n",
    "skplt.metrics.plot_roc(test_labels, predict_proba, title='ROC Curves of Best SVM with y=100')\n",
    "plt.show()"
   ]
  },
  {
   "cell_type": "markdown",
   "metadata": {},
   "source": [
    "### Question 6"
   ]
  },
  {
   "cell_type": "markdown",
   "metadata": {},
   "source": [
    "##### part 1. Train a logistic classifier without regularization. Plot the ROC curve and report the confusion matrix and calculate the accuracy, recall, precision, and F1 score of this classifier on the testing set."
   ]
  },
  {
   "cell_type": "code",
   "execution_count": 28,
   "metadata": {},
   "outputs": [
    {
     "name": "stderr",
     "output_type": "stream",
     "text": [
      "/Users/zacyou/Library/Python/3.8/lib/python/site-packages/sklearn/linear_model/_sag.py:352: ConvergenceWarning: The max_iter was reached which means the coef_ did not converge\n",
      "  warnings.warn(\n"
     ]
    },
    {
     "data": {
      "image/png": "[encoded data removed]",
      "text/plain": [
       "<Figure size 432x288 with 1 Axes>"
      ]
     },
     "metadata": {
      "needs_background": "light"
     },
     "output_type": "display_data"
    }
   ],
   "source": [
    "from sklearn.linear_model import LogisticRegression\n",
    "\n",
    "logistic_clf = LogisticRegression(solver='saga', penalty='none')\n",
    "logistic_clf.fit(reduced_train_matrix, train_labels)\n",
    "logistic_prediction = logistic_clf.predict(reduced_test_matrix)\n",
    "\n",
    "predict_proba = logistic_clf.predict_proba(reduced_test_matrix)\n",
    "\n",
    "skplt.metrics.plot_roc(test_labels, predict_proba, title='ROC Curves of Logistic Regression without Regularization')\n",
    "plt.show()"
   ]
  },
  {
   "cell_type": "code",
   "execution_count": 91,
   "metadata": {},
   "outputs": [
    {
     "name": "stdout",
     "output_type": "stream",
     "text": [
      "The confusion matrix of logistic regression without regularization is as following:\n",
      "[[205   4]\n",
      " [  9 197]]\n",
      "Precision of logistic regression is 0.9690217138606035\n",
      "Recall of logistic regression is 0.9685859618153947\n",
      "F1-Score of logistic regression is 0.9686630537694367\n",
      "Accuracy of logistic regression is 0.9662650602409638\n",
      "The confusion matrix of logistic regression without regularization is as following:\n"
     ]
    },
    {
     "data": {
      "image/png": "[encoded data removed]",
      "text/plain": [
       "<Figure size 432x288 with 2 Axes>"
      ]
     },
     "metadata": {
      "needs_background": "light"
     },
     "output_type": "display_data"
    }
   ],
   "source": [
    "confusion_matrix_logistic = metrics.confusion_matrix(y_true=test_labels, y_pred=logistic_prediction, labels=['sports', 'climate'])\n",
    "print(\"The confusion matrix of logistic regression without regularization is as following:\")\n",
    "print(confusion_matrix_logistic)\n",
    "\n",
    "acc0 = accuracy_score(test_labels, best_SVM_prediction)\n",
    "precision0 = precision_score(test_labels, logistic_prediction, average='macro')\n",
    "recall0 = recall_score(test_labels, logistic_prediction, average='macro')\n",
    "f1_0 = f1_score(test_labels, logistic_prediction, average='macro')\n",
    "print(\"Precision of logistic regression is {}\".format(precision0))\n",
    "print(\"Recall of logistic regression is {}\".format(recall0))\n",
    "print(\"F1-Score of logistic regression is {}\".format(f1_0))\n",
    "print(\"Accuracy of logistic regression is {}\".format(acc0))\n",
    "\n",
    "print(\"The confusion matrix of logistic regression without regularization is as following:\")\n",
    "cm_logistic = ConfusionMatrixDisplay(confusion_matrix=confusion_matrix_logistic, display_labels=['sports', 'climate'])\n",
    "cm_logistic.plot()\n",
    "plt.show()\n",
    "\n"
   ]
  },
  {
   "cell_type": "markdown",
   "metadata": {},
   "source": [
    "##### Part 2"
   ]
  },
  {
   "cell_type": "code",
   "execution_count": 30,
   "metadata": {},
   "outputs": [
    {
     "name": "stdout",
     "output_type": "stream",
     "text": [
      "The best regularization strengths of l1 and l2 are 0.1 and 0.01, respectively\n"
     ]
    }
   ],
   "source": [
    "k_list = [10**i for i in range(-4, 5, 1)]\n",
    "best_score = 0\n",
    "best_l1 = None\n",
    "best_l2 = None\n",
    "for k in k_list:\n",
    "    clf = LogisticRegression(solver='liblinear', penalty='l1', C=k)\n",
    "    mean_score = np.mean(cross_val_score(clf, reduced_train_matrix, train_labels, cv=5))\n",
    "    if mean_score > best_score:\n",
    "        best_score = mean_score\n",
    "        best_l1 = 1/k\n",
    "        \n",
    "best_score = 0\n",
    "for k in k_list:\n",
    "    clf = LogisticRegression(solver='liblinear', penalty='l2', C=k)\n",
    "    mean_score = np.mean(cross_val_score(clf, reduced_train_matrix, train_labels, cv=5))\n",
    "    if mean_score > best_score:\n",
    "        best_score = mean_score\n",
    "        best_l2 = 1/k\n",
    "print('The best regularization strengths of l1 and l2 are {} and {}, respectively'.format(best_l1, best_l2))"
   ]
  },
  {
   "cell_type": "code",
   "execution_count": 31,
   "metadata": {},
   "outputs": [
    {
     "name": "stdout",
     "output_type": "stream",
     "text": [
      "The precision, recall, fscore and accuracy of logistic regression with l1 regularization are 0.98, 0.95, 0.97 and 0.97, respectively\n",
      "The precision, recall, fscore and accuracy of logistic regression with l2 regularization are 0.98, 0.96, 0.97 and 0.97, respectively\n",
      "The precision, recall, fscore and accuracy of logistic regression without regularization are 0.97, 0.97, 0.97 and 0.97, respectively\n"
     ]
    }
   ],
   "source": [
    "from sklearn.metrics import precision_recall_fscore_support\n",
    "logistic_l1 = LogisticRegression(solver='liblinear', penalty='l1', C=1/best_l1)\n",
    "logistic_l2 = LogisticRegression(solver='liblinear', penalty='l2', C=1/best_l2)\n",
    "logistic_l1.fit(reduced_train_matrix, train_labels)\n",
    "logistic_l2.fit(reduced_train_matrix, train_labels)\n",
    "prediction_l1 = logistic_l1.predict(reduced_test_matrix)\n",
    "prediction_l2 = logistic_l2.predict(reduced_test_matrix)\n",
    "\n",
    "acc1 = logistic_l1.score(reduced_test_matrix, test_labels)\n",
    "acc2 = logistic_l2.score(reduced_test_matrix, test_labels)\n",
    "\n",
    "precision1, recall1, fscore1, _ = precision_recall_fscore_support(test_labels, prediction_l1, average='binary', pos_label='climate')\n",
    "precision2, recall2, fscore2, _ = precision_recall_fscore_support(test_labels, prediction_l2, average='binary', pos_label='climate')\n",
    "print(\"The precision, recall, fscore and accuracy of logistic regression with l1 regularization are {:.2f}, {:.2f}, {:.2f} and {:.2f}, respectively\"\n",
    "      .format(precision1, recall1, fscore1, acc1))\n",
    "print(\"The precision, recall, fscore and accuracy of logistic regression with l2 regularization are {:.2f}, {:.2f}, {:.2f} and {:.2f}, respectively\"\n",
    "      .format(precision2, recall2, fscore2, acc2))\n",
    "print(\"The precision, recall, fscore and accuracy of logistic regression without regularization are {:.2f}, {:.2f}, {:.2f} and {:.2f}, respectively\"\n",
    "      .format(precision0, recall0, f1_0, acc0))"
   ]
  },
  {
   "cell_type": "code",
   "execution_count": 32,
   "metadata": {},
   "outputs": [
    {
     "name": "stdout",
     "output_type": "stream",
     "text": [
      "[[-20.98269691 -53.53166664 -45.09646035   6.52929137 -29.91564606\n",
      "   -4.96901502 -12.04335213  -5.37235743  16.60700914  10.01601115\n",
      "   17.33175243  -3.00958606   0.27842118  -3.68096516  -6.06697033\n",
      "   13.74199016   6.15742857  -2.57482623   1.62181006 -21.27480664\n",
      "   -9.44256763   2.84557189 -22.90738685   5.61510879  -2.5249121\n",
      "    5.56037516  -3.57903604   1.96658835 -17.57545659   9.97713452\n",
      "   -0.30837822  -0.59042785   7.71017121  -4.75161614   6.31558432\n",
      "   -2.26013024   3.65036104  -1.78823926   2.20734423   2.92485807\n",
      "    0.52709822   4.67510972  -2.67537202   4.73701521  -4.76778506\n",
      "    6.41676281  -1.7816118   -0.2330984    4.00049318  -1.89398949]]\n",
      "[[-27.11905358 -55.5981391  -46.67150927   0.         -24.28533704\n",
      "   -0.64943605  -6.83350732   0.           9.28795124  12.77917166\n",
      "   16.77395519  -0.6249715    0.65858789   0.           0.\n",
      "   13.00841185   1.30531815   0.           0.76039954 -17.38201999\n",
      "   -6.21031278   0.58922881 -18.18228148   4.06788751   0.\n",
      "    4.88197262   0.           0.         -14.23384268   6.9907545\n",
      "    0.           0.           4.50004686  -0.34470026   6.03974945\n",
      "    0.           1.14223168   0.           0.           0.\n",
      "   -0.64299537   4.80078356  -3.4739863    3.91632468  -1.76227711\n",
      "    3.77358542  -1.77562544   0.           0.94816027   0.        ]]\n",
      "[[-14.67576912 -38.85325482 -33.14050856   5.36632275 -22.6573234\n",
      "   -3.35759575  -9.64759045  -4.9033565   11.60524078   5.68182632\n",
      "   11.99875734  -1.25823328   0.41587466  -4.17274861  -4.1922914\n",
      "    9.59223899   5.48793741  -3.05106242   1.41019062 -14.27959466\n",
      "   -7.11978507   2.30910722 -16.0401162    4.36743218  -1.60460961\n",
      "    3.6971609   -1.77094478  -0.29466081 -12.63003931   6.47918022\n",
      "   -0.06079187  -0.40731422   5.64989528  -2.7364236    6.49266203\n",
      "   -1.93294584   2.96581829  -1.33565228   1.18272746   1.78187697\n",
      "    0.38608834   4.05314773  -1.6590841    2.5414748   -3.18145493\n",
      "    3.83721783  -0.65055688   0.28668953   2.32518621  -1.57103394]]\n"
     ]
    }
   ],
   "source": [
    "print(logistic_clf.coef_)\n",
    "print(logistic_l1.coef_)\n",
    "print(logistic_l2.coef_)"
   ]
  },
  {
   "cell_type": "markdown",
   "metadata": {},
   "source": [
    "##### Using 5-fold cross-validation on the dimension-reduced-by-SVD training data, find the optimal regularization strength in the range {10k|−4 ≤k ≤4,k ∈Z}for logistic regression with L1 regularization and logistic regression with L2 regularization, respectively."
   ]
  },
  {
   "cell_type": "markdown",
   "metadata": {},
   "source": [
    "a. The optimal regularization strengh using 5-fold cross validation for l1 and l2 are 0.1 and 0.01, respectively."
   ]
  },
  {
   "cell_type": "markdown",
   "metadata": {},
   "source": [
    "##### Compare the performance (accuracy, precision, recall and F-1 score) of 3 logistic classifiers: w/o regularization, w/ L1 regularization and w/ L2 regularization (with the best parameters you found from the part above), using test data."
   ]
  },
  {
   "cell_type": "markdown",
   "metadata": {},
   "source": [
    "b. The performances of the 3 logistic classifiers are almost identical with some minor differences as reported above with the accuracy, precision, f1_score, and recall."
   ]
  },
  {
   "cell_type": "markdown",
   "metadata": {},
   "source": [
    "##### How does the regularization parameter affect the test error? How are the learnt coefficients affected? Why might one be interested in each type of regularization?"
   ]
  },
  {
   "cell_type": "markdown",
   "metadata": {},
   "source": [
    "c. In this particular dataset the regularization terms do not impact the test error significantly. However, we can still observe that the learnt coefficients differ greatly as coefficients learnt with L1 have many 0's and those learnt with L2 are smaller than those learnt without any regularization. If one wants to \"cut out\" some features in learnt coefficients, one might use L1 regularization as it zeroes out some features. If one wants to have simple/smaller model/coefficients, then he can use L2 regularization as this regularization tend to make coefficients shrink in the direction of their respective axis."
   ]
  },
  {
   "cell_type": "markdown",
   "metadata": {},
   "source": [
    "##### Both logistic regression and linear SVM are trying to classify data points using a linear decision boundary. What is the difference between their ways to find this boundary? Why do their performances differ? Is this difference statistically significant?"
   ]
  },
  {
   "cell_type": "markdown",
   "metadata": {},
   "source": [
    "d. SVM tries to maximize the margin between the closest support vectors while logistic classifier maximizes the posterior class probability. With different optimization goal, the learnt model is different, hence the difference in performance. In this particular dataset, the performance difference is not that significant as reported above."
   ]
  },
  {
   "cell_type": "markdown",
   "metadata": {},
   "source": [
    "### Question 7"
   ]
  },
  {
   "cell_type": "markdown",
   "metadata": {},
   "source": [
    "##### Evaluate and profile a Na ̈ıve Bayes classifier: Train a GaussianNB classifier; plot the ROC curve and report the confusion matrix and calculate the accuracy, recall, precision and F-1 score of this classifier on the testing set."
   ]
  },
  {
   "cell_type": "code",
   "execution_count": 33,
   "metadata": {},
   "outputs": [
    {
     "data": {
      "image/png": "[encoded data removed]",
      "text/plain": [
       "<Figure size 432x288 with 1 Axes>"
      ]
     },
     "metadata": {
      "needs_background": "light"
     },
     "output_type": "display_data"
    }
   ],
   "source": [
    "from sklearn.naive_bayes import GaussianNB\n",
    "GNB_clf = GaussianNB()\n",
    "GNB_clf.fit(reduced_train_matrix, train_labels)\n",
    "\n",
    "GNB_prediction = GNB_clf.predict(reduced_test_matrix)\n",
    "predict_proba = GNB_clf.predict_proba(reduced_test_matrix)\n",
    "\n",
    "skplt.metrics.plot_roc(test_labels, predict_proba, title='ROC Curves of GaussianNB')\n",
    "plt.show()"
   ]
  },
  {
   "cell_type": "code",
   "execution_count": 92,
   "metadata": {},
   "outputs": [
    {
     "name": "stdout",
     "output_type": "stream",
     "text": [
      "The confusion matrix of GNB classifier is as following:\n",
      "[[191  18]\n",
      " [  6 200]]\n",
      "Precision of GNB classifier is 0.9434871699343361\n",
      "Recall of GNB classifier is 0.9423746922469457\n",
      "F1-Score of GNB classifier is 0.9421414629612418\n",
      "Accuracy of GNB classifier is 0.9421686746987952\n",
      "The confusion matrix of logistic regression without regularization is as following:\n"
     ]
    },
    {
     "data": {
      "image/png": "[encoded data removed]",
      "text/plain": [
       "<Figure size 432x288 with 2 Axes>"
      ]
     },
     "metadata": {
      "needs_background": "light"
     },
     "output_type": "display_data"
    }
   ],
   "source": [
    "confusion_matrix_GNB = metrics.confusion_matrix(y_true=test_labels, y_pred=GNB_prediction, labels=['sports', 'climate'])\n",
    "print(\"The confusion matrix of GNB classifier is as following:\")\n",
    "print(confusion_matrix_GNB)\n",
    "\n",
    "accuracy = accuracy_score(test_labels, GNB_prediction)\n",
    "precision = precision_score(test_labels, GNB_prediction, average='macro')\n",
    "recall = recall_score(test_labels, GNB_prediction, average='macro')\n",
    "f1 = f1_score(test_labels, GNB_prediction, average='macro')\n",
    "print(\"Precision of GNB classifier is {}\".format(precision))\n",
    "print(\"Recall of GNB classifier is {}\".format(recall))\n",
    "print(\"F1-Score of GNB classifier is {}\".format(f1))\n",
    "print(\"Accuracy of GNB classifier is {}\".format(accuracy))\n",
    "\n",
    "print(\"The confusion matrix of logistic regression without regularization is as following:\")\n",
    "cm_GNB= ConfusionMatrixDisplay(confusion_matrix=confusion_matrix_GNB, display_labels=['sports', 'climate'])\n",
    "cm_GNB.plot()\n",
    "plt.show()"
   ]
  },
  {
   "cell_type": "markdown",
   "metadata": {},
   "source": [
    "## Grid Search of Parameters"
   ]
  },
  {
   "cell_type": "markdown",
   "metadata": {},
   "source": [
    "### Question 8"
   ]
  },
  {
   "cell_type": "markdown",
   "metadata": {},
   "source": [
    "##### Construct a Pipeline that performs feature extraction, dimensionality reduction and classification;"
   ]
  },
  {
   "cell_type": "code",
   "execution_count": 35,
   "metadata": {},
   "outputs": [
    {
     "name": "stdout",
     "output_type": "stream",
     "text": [
      "Vocab list completed\n"
     ]
    }
   ],
   "source": [
    "from nltk.stem.porter import *\n",
    "\n",
    "def get_vocab(texts, clean_flag, min_df, compression_method, order):\n",
    "    clean_texts = []\n",
    "    if not clean_flag:\n",
    "        clean_texts = texts\n",
    "    clean_texts = [clean(text) for text in texts]\n",
    "    vectorizer = CountVectorizer(min_df=min_df, stop_words='english')\n",
    "    vectorizer.fit(clean_texts)\n",
    "    tokens = vectorizer.get_feature_names_out()\n",
    "    \n",
    "    if compression_method == 'none': return [str(order)] + tokens\n",
    "    elif compression_method == 'lemmatize':\n",
    "        pos_tags = nltk.pos_tag(tokens)\n",
    "        wnl = WordNetLemmatizer()\n",
    "        vocab = [wnl.lemmatize(t[0], get_wordnet_pos(t[1])) for t in pos_tags]\n",
    "        return [str(order)] + list(set(vocab))\n",
    "    elif compression_method == 'stem':\n",
    "        stemmer = PorterStemmer()\n",
    "        vocab = [stemmer.stem(token) for token in tokens]\n",
    "        return [str(order)] + list(set(vocab))\n",
    "    else:\n",
    "        raise ValueError(\"Wrong compression method. Use 'lemmatize', 'stem' or 'none'.\")\n",
    "\n",
    "VOCAB_LIST = []\n",
    "VOCAB_LIST.append(get_vocab(train_texts, True, 3, 'lemmatize', 1))\n",
    "VOCAB_LIST.append(get_vocab(train_texts, True, 3, 'stem', 2))\n",
    "VOCAB_LIST.append(get_vocab(train_texts, True, 3, 'none', 3))\n",
    "\n",
    "\n",
    "\n",
    "VOCAB_LIST.append(get_vocab(train_texts, True, 5, 'lemmatize', 4))\n",
    "VOCAB_LIST.append(get_vocab(train_texts, True, 5, 'stem', 5))\n",
    "VOCAB_LIST.append(get_vocab(train_texts, True, 5, 'none', 6))\n",
    "\n",
    "VOCAB_LIST.append(get_vocab(train_texts, False, 3, 'lemmatize', 7))\n",
    "VOCAB_LIST.append(get_vocab(train_texts, False, 3, 'stem', 8))\n",
    "VOCAB_LIST.append(get_vocab(train_texts, False, 3, 'none', 9))\n",
    "\n",
    "VOCAB_LIST.append(get_vocab(train_texts, False, 5, 'lemmatize', 10))\n",
    "VOCAB_LIST.append(get_vocab(train_texts, False, 5, 'stem', 11))\n",
    "VOCAB_LIST.append(get_vocab(train_texts, False, 5, 'none', 12))\n",
    "\n",
    "\n",
    "        \n",
    "print(\"Vocab list completed\")"
   ]
  },
  {
   "cell_type": "code",
   "execution_count": 36,
   "metadata": {},
   "outputs": [],
   "source": [
    "from joblib import Memory\n",
    "from shutil import rmtree\n",
    "import numpy as np\n",
    "import matplotlib.pyplot as plt\n",
    "from sklearn.datasets import load_digits\n",
    "from sklearn.model_selection import GridSearchCV\n",
    "from sklearn.pipeline import Pipeline\n",
    "from sklearn.svm import LinearSVC\n",
    "from sklearn.decomposition import PCA, NMF\n",
    "from sklearn.feature_selection import SelectKBest, chi2\n",
    "\n",
    "location = \"D:\\\\cache\"\n",
    "memory = Memory(location=location)\n",
    "pipe = Pipeline(\n",
    "    [\n",
    "        ('count', CountVectorizer()),\n",
    "        ('tfid', TfidfTransformer()),\n",
    "        (\"reduce_dim\", \"passthrough\"),\n",
    "        (\"classify\", \"passthrough\"),\n",
    "    ],\n",
    "    memory=memory\n",
    ")\n",
    "\n",
    "N_COMPONENTS_OPTIONS = [5, 50]\n",
    "CLASSIFIERS = [\n",
    "    SVC(kernel='linear', C=best_y, probability=True),\n",
    "    LogisticRegression(solver='liblinear', penalty='l1', C=1/best_l1),\n",
    "    LogisticRegression(solver='liblinear', penalty='l2', C=1/best_l2),\n",
    "    GaussianNB()\n",
    "]\n",
    "param_grid = [\n",
    "    {\n",
    "        \"count__vocabulary\": VOCAB_LIST,\n",
    "        \"reduce_dim\": [TruncatedSVD(), NMF()],\n",
    "        \"reduce_dim__n_components\": N_COMPONENTS_OPTIONS,\n",
    "        \"classify\": CLASSIFIERS\n",
    "    },\n",
    "  \n",
    "]\n"
   ]
  },
  {
   "cell_type": "code",
   "execution_count": null,
   "metadata": {},
   "outputs": [],
   "source": [
    "grid = GridSearchCV(pipe, n_jobs=-1, param_grid=param_grid, scoring=\"accuracy\")\n",
    "_ = grid.fit(train_texts, train_labels)\n",
    "print(\"done!\")\n",
    "# Manually cleared outputs for this code cell"
   ]
  },
  {
   "cell_type": "code",
   "execution_count": null,
   "metadata": {},
   "outputs": [],
   "source": [
    "from sklearn.model_selection import RandomizedSearchCV\n",
    "param_grid_randCV = {\n",
    "        \"count__vocabulary\": VOCAB_LIST,\n",
    "        \"reduce_dim\": [TruncatedSVD(), NMF(tol=0.05, max_iter=50)],\n",
    "        \"reduce_dim__n_components\": [500],\n",
    "        \"classify\": CLASSIFIERS\n",
    "    }\n",
    "randCV = RandomizedSearchCV(pipe, n_jobs=-1, param_distributions=param_grid_randCV, scoring=\"accuracy\")\n",
    "_ = randCV.fit(train_texts, train_labels)\n",
    "memory.clear(warn=False)\n",
    "rmtree(location)\n",
    "\n",
    "# Manually cleared outputs for this code cell"
   ]
  },
  {
   "cell_type": "code",
   "execution_count": 39,
   "metadata": {},
   "outputs": [
    {
     "data": {
      "text/html": [
       "<div>\n",
       "<style scoped>\n",
       "    .dataframe tbody tr th:only-of-type {\n",
       "        vertical-align: middle;\n",
       "    }\n",
       "\n",
       "    .dataframe tbody tr th {\n",
       "        vertical-align: top;\n",
       "    }\n",
       "\n",
       "    .dataframe thead th {\n",
       "        text-align: right;\n",
       "    }\n",
       "</style>\n",
       "<table border=\"1\" class=\"dataframe\">\n",
       "  <thead>\n",
       "    <tr style=\"text-align: right;\">\n",
       "      <th></th>\n",
       "      <th>mean_fit_time</th>\n",
       "      <th>std_fit_time</th>\n",
       "      <th>mean_score_time</th>\n",
       "      <th>std_score_time</th>\n",
       "      <th>param_classify</th>\n",
       "      <th>param_count__vocabulary</th>\n",
       "      <th>param_reduce_dim</th>\n",
       "      <th>param_reduce_dim__n_components</th>\n",
       "      <th>params</th>\n",
       "      <th>split0_test_score</th>\n",
       "      <th>split1_test_score</th>\n",
       "      <th>split2_test_score</th>\n",
       "      <th>split3_test_score</th>\n",
       "      <th>split4_test_score</th>\n",
       "      <th>mean_test_score</th>\n",
       "      <th>std_test_score</th>\n",
       "      <th>rank_test_score</th>\n",
       "    </tr>\n",
       "  </thead>\n",
       "  <tbody>\n",
       "    <tr>\n",
       "      <th>147</th>\n",
       "      <td>0.392051</td>\n",
       "      <td>0.022646</td>\n",
       "      <td>0.419083</td>\n",
       "      <td>0.018042</td>\n",
       "      <td>GaussianNB()</td>\n",
       "      <td>[1, installation, melia, steven, finn, archipe...</td>\n",
       "      <td>NMF(n_components=50)</td>\n",
       "      <td>50</td>\n",
       "      <td>{'classify': GaussianNB(), 'count__vocabulary'...</td>\n",
       "      <td>0.963855</td>\n",
       "      <td>0.969880</td>\n",
       "      <td>0.951662</td>\n",
       "      <td>0.954683</td>\n",
       "      <td>0.966767</td>\n",
       "      <td>0.961369</td>\n",
       "      <td>0.007024</td>\n",
       "      <td>1</td>\n",
       "    </tr>\n",
       "    <tr>\n",
       "      <th>171</th>\n",
       "      <td>0.366103</td>\n",
       "      <td>0.023022</td>\n",
       "      <td>0.404811</td>\n",
       "      <td>0.024205</td>\n",
       "      <td>GaussianNB()</td>\n",
       "      <td>[7, installation, melia, steven, finn, archipe...</td>\n",
       "      <td>NMF(n_components=50)</td>\n",
       "      <td>50</td>\n",
       "      <td>{'classify': GaussianNB(), 'count__vocabulary'...</td>\n",
       "      <td>0.963855</td>\n",
       "      <td>0.969880</td>\n",
       "      <td>0.951662</td>\n",
       "      <td>0.954683</td>\n",
       "      <td>0.966767</td>\n",
       "      <td>0.961369</td>\n",
       "      <td>0.007024</td>\n",
       "      <td>1</td>\n",
       "    </tr>\n",
       "    <tr>\n",
       "      <th>111</th>\n",
       "      <td>0.296321</td>\n",
       "      <td>0.003721</td>\n",
       "      <td>0.414609</td>\n",
       "      <td>0.014382</td>\n",
       "      <td>LogisticRegression(C=100.0, solver='liblinear')</td>\n",
       "      <td>[4, installation, steven, archipelago, organis...</td>\n",
       "      <td>NMF(n_components=50)</td>\n",
       "      <td>50</td>\n",
       "      <td>{'classify': LogisticRegression(C=100.0, solve...</td>\n",
       "      <td>0.978916</td>\n",
       "      <td>0.951807</td>\n",
       "      <td>0.951662</td>\n",
       "      <td>0.948640</td>\n",
       "      <td>0.969789</td>\n",
       "      <td>0.960163</td>\n",
       "      <td>0.011993</td>\n",
       "      <td>3</td>\n",
       "    </tr>\n",
       "    <tr>\n",
       "      <th>63</th>\n",
       "      <td>0.479287</td>\n",
       "      <td>0.014552</td>\n",
       "      <td>0.646861</td>\n",
       "      <td>0.037960</td>\n",
       "      <td>LogisticRegression(C=10.0, penalty='l1', solve...</td>\n",
       "      <td>[4, installation, steven, archipelago, organis...</td>\n",
       "      <td>NMF(n_components=50)</td>\n",
       "      <td>50</td>\n",
       "      <td>{'classify': LogisticRegression(C=10.0, penalt...</td>\n",
       "      <td>0.978916</td>\n",
       "      <td>0.957831</td>\n",
       "      <td>0.951662</td>\n",
       "      <td>0.939577</td>\n",
       "      <td>0.972810</td>\n",
       "      <td>0.960159</td>\n",
       "      <td>0.014234</td>\n",
       "      <td>4</td>\n",
       "    </tr>\n",
       "    <tr>\n",
       "      <th>183</th>\n",
       "      <td>0.289376</td>\n",
       "      <td>0.009802</td>\n",
       "      <td>0.383198</td>\n",
       "      <td>0.028477</td>\n",
       "      <td>GaussianNB()</td>\n",
       "      <td>[10, installation, steven, archipelago, organi...</td>\n",
       "      <td>NMF(n_components=50)</td>\n",
       "      <td>50</td>\n",
       "      <td>{'classify': GaussianNB(), 'count__vocabulary'...</td>\n",
       "      <td>0.966867</td>\n",
       "      <td>0.963855</td>\n",
       "      <td>0.936556</td>\n",
       "      <td>0.960725</td>\n",
       "      <td>0.969789</td>\n",
       "      <td>0.959558</td>\n",
       "      <td>0.011891</td>\n",
       "      <td>5</td>\n",
       "    </tr>\n",
       "  </tbody>\n",
       "</table>\n",
       "</div>"
      ],
      "text/plain": [
       "     mean_fit_time  std_fit_time  mean_score_time  std_score_time  \\\n",
       "147       0.392051      0.022646         0.419083        0.018042   \n",
       "171       0.366103      0.023022         0.404811        0.024205   \n",
       "111       0.296321      0.003721         0.414609        0.014382   \n",
       "63        0.479287      0.014552         0.646861        0.037960   \n",
       "183       0.289376      0.009802         0.383198        0.028477   \n",
       "\n",
       "                                        param_classify  \\\n",
       "147                                       GaussianNB()   \n",
       "171                                       GaussianNB()   \n",
       "111    LogisticRegression(C=100.0, solver='liblinear')   \n",
       "63   LogisticRegression(C=10.0, penalty='l1', solve...   \n",
       "183                                       GaussianNB()   \n",
       "\n",
       "                               param_count__vocabulary      param_reduce_dim  \\\n",
       "147  [1, installation, melia, steven, finn, archipe...  NMF(n_components=50)   \n",
       "171  [7, installation, melia, steven, finn, archipe...  NMF(n_components=50)   \n",
       "111  [4, installation, steven, archipelago, organis...  NMF(n_components=50)   \n",
       "63   [4, installation, steven, archipelago, organis...  NMF(n_components=50)   \n",
       "183  [10, installation, steven, archipelago, organi...  NMF(n_components=50)   \n",
       "\n",
       "    param_reduce_dim__n_components  \\\n",
       "147                             50   \n",
       "171                             50   \n",
       "111                             50   \n",
       "63                              50   \n",
       "183                             50   \n",
       "\n",
       "                                                params  split0_test_score  \\\n",
       "147  {'classify': GaussianNB(), 'count__vocabulary'...           0.963855   \n",
       "171  {'classify': GaussianNB(), 'count__vocabulary'...           0.963855   \n",
       "111  {'classify': LogisticRegression(C=100.0, solve...           0.978916   \n",
       "63   {'classify': LogisticRegression(C=10.0, penalt...           0.978916   \n",
       "183  {'classify': GaussianNB(), 'count__vocabulary'...           0.966867   \n",
       "\n",
       "     split1_test_score  split2_test_score  split3_test_score  \\\n",
       "147           0.969880           0.951662           0.954683   \n",
       "171           0.969880           0.951662           0.954683   \n",
       "111           0.951807           0.951662           0.948640   \n",
       "63            0.957831           0.951662           0.939577   \n",
       "183           0.963855           0.936556           0.960725   \n",
       "\n",
       "     split4_test_score  mean_test_score  std_test_score  rank_test_score  \n",
       "147           0.966767         0.961369        0.007024                1  \n",
       "171           0.966767         0.961369        0.007024                1  \n",
       "111           0.969789         0.960163        0.011993                3  \n",
       "63            0.972810         0.960159        0.014234                4  \n",
       "183           0.969789         0.959558        0.011891                5  "
      ]
     },
     "metadata": {},
     "output_type": "display_data"
    }
   ],
   "source": [
    "import pandas as pd\n",
    "results = pd.DataFrame(grid.cv_results_)\n",
    "results = results.sort_values(by=['rank_test_score'])\n",
    "\n",
    "display(results.head(5)) \n",
    "best_5 = list(results.head(5)['params'])\n"
   ]
  },
  {
   "cell_type": "code",
   "execution_count": 40,
   "metadata": {},
   "outputs": [
    {
     "data": {
      "text/html": [
       "<div>\n",
       "<style scoped>\n",
       "    .dataframe tbody tr th:only-of-type {\n",
       "        vertical-align: middle;\n",
       "    }\n",
       "\n",
       "    .dataframe tbody tr th {\n",
       "        vertical-align: top;\n",
       "    }\n",
       "\n",
       "    .dataframe thead th {\n",
       "        text-align: right;\n",
       "    }\n",
       "</style>\n",
       "<table border=\"1\" class=\"dataframe\">\n",
       "  <thead>\n",
       "    <tr style=\"text-align: right;\">\n",
       "      <th></th>\n",
       "      <th>mean_fit_time</th>\n",
       "      <th>std_fit_time</th>\n",
       "      <th>mean_score_time</th>\n",
       "      <th>std_score_time</th>\n",
       "      <th>param_reduce_dim__n_components</th>\n",
       "      <th>param_reduce_dim</th>\n",
       "      <th>param_count__vocabulary</th>\n",
       "      <th>param_classify</th>\n",
       "      <th>params</th>\n",
       "      <th>split0_test_score</th>\n",
       "      <th>split1_test_score</th>\n",
       "      <th>split2_test_score</th>\n",
       "      <th>split3_test_score</th>\n",
       "      <th>split4_test_score</th>\n",
       "      <th>mean_test_score</th>\n",
       "      <th>std_test_score</th>\n",
       "      <th>rank_test_score</th>\n",
       "    </tr>\n",
       "  </thead>\n",
       "  <tbody>\n",
       "    <tr>\n",
       "      <th>4</th>\n",
       "      <td>30.358633</td>\n",
       "      <td>4.892360</td>\n",
       "      <td>1.325561</td>\n",
       "      <td>0.314607</td>\n",
       "      <td>500</td>\n",
       "      <td>TruncatedSVD(n_components=500)</td>\n",
       "      <td>[1, installation, melia, steven, finn, archipe...</td>\n",
       "      <td>LogisticRegression(C=10.0, penalty='l1', solve...</td>\n",
       "      <td>{'reduce_dim__n_components': 500, 'reduce_dim'...</td>\n",
       "      <td>0.981928</td>\n",
       "      <td>0.984940</td>\n",
       "      <td>0.951662</td>\n",
       "      <td>0.972810</td>\n",
       "      <td>0.963746</td>\n",
       "      <td>0.971017</td>\n",
       "      <td>0.012195</td>\n",
       "      <td>1</td>\n",
       "    </tr>\n",
       "    <tr>\n",
       "      <th>1</th>\n",
       "      <td>25.949670</td>\n",
       "      <td>1.641251</td>\n",
       "      <td>1.377312</td>\n",
       "      <td>0.240629</td>\n",
       "      <td>500</td>\n",
       "      <td>TruncatedSVD(n_components=500)</td>\n",
       "      <td>[8, melia, steven, finn, archipelago, torch, t...</td>\n",
       "      <td>SVC(C=100, kernel='linear', probability=True)</td>\n",
       "      <td>{'reduce_dim__n_components': 500, 'reduce_dim'...</td>\n",
       "      <td>0.975904</td>\n",
       "      <td>0.978916</td>\n",
       "      <td>0.951662</td>\n",
       "      <td>0.954683</td>\n",
       "      <td>0.954683</td>\n",
       "      <td>0.963169</td>\n",
       "      <td>0.011718</td>\n",
       "      <td>2</td>\n",
       "    </tr>\n",
       "    <tr>\n",
       "      <th>9</th>\n",
       "      <td>83.100972</td>\n",
       "      <td>9.380647</td>\n",
       "      <td>4.163139</td>\n",
       "      <td>0.934338</td>\n",
       "      <td>500</td>\n",
       "      <td>NMF(max_iter=50, tol=0.05)</td>\n",
       "      <td>[5, steven, archipelago, tragic, hobart, simon...</td>\n",
       "      <td>SVC(C=100, kernel='linear', probability=True)</td>\n",
       "      <td>{'reduce_dim__n_components': 500, 'reduce_dim'...</td>\n",
       "      <td>0.951807</td>\n",
       "      <td>0.957831</td>\n",
       "      <td>0.939577</td>\n",
       "      <td>0.954683</td>\n",
       "      <td>0.948640</td>\n",
       "      <td>0.950508</td>\n",
       "      <td>0.006257</td>\n",
       "      <td>3</td>\n",
       "    </tr>\n",
       "    <tr>\n",
       "      <th>2</th>\n",
       "      <td>93.394556</td>\n",
       "      <td>13.184697</td>\n",
       "      <td>5.272729</td>\n",
       "      <td>1.244476</td>\n",
       "      <td>500</td>\n",
       "      <td>NMF(max_iter=50, tol=0.05)</td>\n",
       "      <td>[11, steven, archipelago, tragic, hobart, simo...</td>\n",
       "      <td>LogisticRegression(C=100.0, solver='liblinear')</td>\n",
       "      <td>{'reduce_dim__n_components': 500, 'reduce_dim'...</td>\n",
       "      <td>0.957831</td>\n",
       "      <td>0.975904</td>\n",
       "      <td>0.939577</td>\n",
       "      <td>0.927492</td>\n",
       "      <td>0.948640</td>\n",
       "      <td>0.949889</td>\n",
       "      <td>0.016428</td>\n",
       "      <td>4</td>\n",
       "    </tr>\n",
       "    <tr>\n",
       "      <th>7</th>\n",
       "      <td>81.109676</td>\n",
       "      <td>32.901745</td>\n",
       "      <td>4.865965</td>\n",
       "      <td>0.862658</td>\n",
       "      <td>500</td>\n",
       "      <td>NMF(max_iter=50, tol=0.05)</td>\n",
       "      <td>[7, installation, melia, steven, finn, archipe...</td>\n",
       "      <td>LogisticRegression(C=10.0, penalty='l1', solve...</td>\n",
       "      <td>{'reduce_dim__n_components': 500, 'reduce_dim'...</td>\n",
       "      <td>0.945783</td>\n",
       "      <td>0.960843</td>\n",
       "      <td>0.936556</td>\n",
       "      <td>0.948640</td>\n",
       "      <td>0.951662</td>\n",
       "      <td>0.948697</td>\n",
       "      <td>0.007902</td>\n",
       "      <td>5</td>\n",
       "    </tr>\n",
       "  </tbody>\n",
       "</table>\n",
       "</div>"
      ],
      "text/plain": [
       "   mean_fit_time  std_fit_time  mean_score_time  std_score_time  \\\n",
       "4      30.358633      4.892360         1.325561        0.314607   \n",
       "1      25.949670      1.641251         1.377312        0.240629   \n",
       "9      83.100972      9.380647         4.163139        0.934338   \n",
       "2      93.394556     13.184697         5.272729        1.244476   \n",
       "7      81.109676     32.901745         4.865965        0.862658   \n",
       "\n",
       "  param_reduce_dim__n_components                param_reduce_dim  \\\n",
       "4                            500  TruncatedSVD(n_components=500)   \n",
       "1                            500  TruncatedSVD(n_components=500)   \n",
       "9                            500      NMF(max_iter=50, tol=0.05)   \n",
       "2                            500      NMF(max_iter=50, tol=0.05)   \n",
       "7                            500      NMF(max_iter=50, tol=0.05)   \n",
       "\n",
       "                             param_count__vocabulary  \\\n",
       "4  [1, installation, melia, steven, finn, archipe...   \n",
       "1  [8, melia, steven, finn, archipelago, torch, t...   \n",
       "9  [5, steven, archipelago, tragic, hobart, simon...   \n",
       "2  [11, steven, archipelago, tragic, hobart, simo...   \n",
       "7  [7, installation, melia, steven, finn, archipe...   \n",
       "\n",
       "                                      param_classify  \\\n",
       "4  LogisticRegression(C=10.0, penalty='l1', solve...   \n",
       "1      SVC(C=100, kernel='linear', probability=True)   \n",
       "9      SVC(C=100, kernel='linear', probability=True)   \n",
       "2    LogisticRegression(C=100.0, solver='liblinear')   \n",
       "7  LogisticRegression(C=10.0, penalty='l1', solve...   \n",
       "\n",
       "                                              params  split0_test_score  \\\n",
       "4  {'reduce_dim__n_components': 500, 'reduce_dim'...           0.981928   \n",
       "1  {'reduce_dim__n_components': 500, 'reduce_dim'...           0.975904   \n",
       "9  {'reduce_dim__n_components': 500, 'reduce_dim'...           0.951807   \n",
       "2  {'reduce_dim__n_components': 500, 'reduce_dim'...           0.957831   \n",
       "7  {'reduce_dim__n_components': 500, 'reduce_dim'...           0.945783   \n",
       "\n",
       "   split1_test_score  split2_test_score  split3_test_score  split4_test_score  \\\n",
       "4           0.984940           0.951662           0.972810           0.963746   \n",
       "1           0.978916           0.951662           0.954683           0.954683   \n",
       "9           0.957831           0.939577           0.954683           0.948640   \n",
       "2           0.975904           0.939577           0.927492           0.948640   \n",
       "7           0.960843           0.936556           0.948640           0.951662   \n",
       "\n",
       "   mean_test_score  std_test_score  rank_test_score  \n",
       "4         0.971017        0.012195                1  \n",
       "1         0.963169        0.011718                2  \n",
       "9         0.950508        0.006257                3  \n",
       "2         0.949889        0.016428                4  \n",
       "7         0.948697        0.007902                5  "
      ]
     },
     "metadata": {},
     "output_type": "display_data"
    }
   ],
   "source": [
    "import pandas as pd\n",
    "results = pd.DataFrame(randCV.cv_results_)\n",
    "results = results.sort_values(by=['rank_test_score'])\n",
    "\n",
    "display(results.head(5))\n"
   ]
  },
  {
   "cell_type": "markdown",
   "metadata": {},
   "source": [
    "##### What are the 5 best combinations? Report their performances on the testing set."
   ]
  },
  {
   "cell_type": "markdown",
   "metadata": {},
   "source": [
    "The 5 best combinations would be \n",
    "\n",
    "        1. With cleaning, min_df = 3, lemmatization, LSI with k = 500,  LogisticRegression(C=10.0, penalty='l1', solver='liblinear') with accuracy 0.971017\n",
    "        2. Without cleaning, min_df = 3, stemming, LSI with k = 500, SVC(C=100, kernel='linear', probability=True) with accuracy 0.963169\t\n",
    "        3. With cleaning, min_df = 3, lemmatization, NMF(n_components=50), GaussianNB(), with accuracy 0.961369\t\n",
    "        4. Without cleaning, min_df = 3, lemmatization, NMF(n_components=50), GaussianNB() with accuracy 0.961369\n",
    "        4. With cleaning, min_df = 5, lemmatization, NMF(n_components=50), LogisticRegression(C=100.0, solver='liblinear') with accuracy 0.960163\n"
   ]
  },
  {
   "cell_type": "markdown",
   "metadata": {},
   "source": [
    "## Multiclass Classification"
   ]
  },
  {
   "cell_type": "markdown",
   "metadata": {},
   "source": [
    "### Question 9"
   ]
  },
  {
   "cell_type": "markdown",
   "metadata": {},
   "source": [
    "##### Part 0. How did you resolve the class imbalance issue in the one Vs the rest model?"
   ]
  },
  {
   "cell_type": "markdown",
   "metadata": {},
   "source": [
    "We set the class_weight to balanced in the SVC() used in the one vs the rest model to resolve the class imbalance issue in the One vs Rest model. By adding this parameter, the SVC will automatically assign class weight inversely proportional to the frequency of the certain classes. Minority classes will have higher weight than the majority classes. One vs the rest involves splitting the entire problem into multiple binary classification problems and each of the binary classifier is trained on each of the binary classifier problem. Because it has more number of classifiers than the other model, it has more numbers of estimator and thus a better result."
   ]
  },
  {
   "cell_type": "code",
   "execution_count": 41,
   "metadata": {},
   "outputs": [],
   "source": [
    "y_train = list(train[\"leaf_label\"])\n",
    "y_test = list(test[\"leaf_label\"])\n",
    "\n",
    "reduced_train_matrix_for_test = reduced_train_matrix\n",
    "reduced_test_matrix_for_test = reduced_test_matrix"
   ]
  },
  {
   "cell_type": "markdown",
   "metadata": {},
   "source": [
    "##### Part 1 Do you observe any structure in the confusion matrix? Are there distinct visible blocks on the major diagonal? What does this mean?"
   ]
  },
  {
   "cell_type": "markdown",
   "metadata": {},
   "source": [
    "We observe that the main diagonal of the confusion matrix stands out among the other blocks. We can also observe the distinct visible blocks on the first column of the confusion matrices generated for the three different classifiers: Naive Bayes, One vs One, and One vs Rest. That implies that for the first label \"chess\", the prediction model for this label will have a high error rate as it can basically mislabel the other labels as \"chess\", as we can see from the numbers on the first column."
   ]
  },
  {
   "cell_type": "code",
   "execution_count": 42,
   "metadata": {},
   "outputs": [
    {
     "name": "stderr",
     "output_type": "stream",
     "text": [
      "/Users/zacyou/Library/Python/3.8/lib/python/site-packages/sklearn/utils/deprecation.py:87: FutureWarning: Function plot_confusion_matrix is deprecated; Function `plot_confusion_matrix` is deprecated in 1.0 and will be removed in 1.2. Use one of the class methods: ConfusionMatrixDisplay.from_predictions or ConfusionMatrixDisplay.from_estimator.\n",
      "  warnings.warn(msg, category=FutureWarning)\n"
     ]
    },
    {
     "name": "stdout",
     "output_type": "stream",
     "text": [
      "The following is the evaluation of Multinomial NB\n",
      "confusion matrix:\n",
      "[[46  0  0  0  0  0  0  0]\n",
      " [ 3 46  0  0  0  0  0  1]\n",
      " [10  1 45  2  0  0  0  0]\n",
      " [ 5  0  0 50  0  0  0  0]\n",
      " [ 5  0  1  0 43  0  0  0]\n",
      " [ 6  0  0  0  2 37  6  2]\n",
      " [12  0  1  1  0  1 41  1]\n",
      " [ 5  0  1  0  3  0  0 38]]\n",
      "accuracy 0.8337349397590361\n",
      "precision 0.8757799381029854\n",
      "recall 0.8385532612404583\n",
      "f1_score 0.841535209834493\n"
     ]
    },
    {
     "data": {
      "image/png": "[encoded data removed]",
      "text/plain": [
       "<Figure size 432x288 with 2 Axes>"
      ]
     },
     "metadata": {
      "needs_background": "light"
     },
     "output_type": "display_data"
    }
   ],
   "source": [
    "from sklearn.naive_bayes import MultinomialNB\n",
    "from sklearn.preprocessing import MinMaxScaler\n",
    "from sklearn import metrics\n",
    "from sklearn.metrics import plot_confusion_matrix\n",
    "from sklearn.metrics import f1_score\n",
    "\n",
    "\n",
    "labels = ['chess', 'cricket', 'soccer', 'football', '%22forest%20fire%22', 'flood', 'earthquake', 'drought']\n",
    "\n",
    "MTNB_clf = Pipeline([('Normalizing', MinMaxScaler()),('MultinomialNB', MultinomialNB())]).fit(reduced_train_matrix, y_train)\n",
    "\n",
    "y_pred = MTNB_clf.predict(reduced_test_matrix)\n",
    "\n",
    "confusion_matrix_naive_bayes = metrics.confusion_matrix(y_test, y_pred, labels=labels)\n",
    "plot_confusion_matrix(MTNB_clf, reduced_test_matrix, y_test, labels=labels) \n",
    "plt.xticks(rotation = 45) \n",
    "accuracy = accuracy_score(y_test, y_pred)\n",
    "precision = precision_score(y_test, y_pred, average='macro')\n",
    "recall = recall_score(y_test, y_pred, average='macro')\n",
    "f1_score = f1_score(y_test, y_pred, average='macro')\n",
    "\n",
    "print(\"The following is the evaluation of Multinomial NB\")\n",
    "print(\"confusion matrix:\")\n",
    "print(confusion_matrix_naive_bayes)\n",
    "print(\"accuracy\", accuracy)\n",
    "print(\"precision\", precision)\n",
    "print(\"recall\", recall)\n",
    "print(\"f1_score\", f1_score)\n",
    "\n",
    "\n"
   ]
  },
  {
   "cell_type": "code",
   "execution_count": 43,
   "metadata": {},
   "outputs": [
    {
     "name": "stderr",
     "output_type": "stream",
     "text": [
      "/Users/zacyou/Library/Python/3.8/lib/python/site-packages/sklearn/utils/deprecation.py:87: FutureWarning: Function plot_confusion_matrix is deprecated; Function `plot_confusion_matrix` is deprecated in 1.0 and will be removed in 1.2. Use one of the class methods: ConfusionMatrixDisplay.from_predictions or ConfusionMatrixDisplay.from_estimator.\n",
      "  warnings.warn(msg, category=FutureWarning)\n"
     ]
    },
    {
     "name": "stdout",
     "output_type": "stream",
     "text": [
      "The following is the evaluation of One VS One SVM\n",
      "confusion matrix of:\n",
      "[[44  0  0  1  0  0  1  0]\n",
      " [ 0 49  0  0  0  0  0  1]\n",
      " [ 7  1 50  0  0  0  0  0]\n",
      " [ 3  0  0 52  0  0  0  0]\n",
      " [ 2  0  1  0 46  0  0  0]\n",
      " [ 3  0  0  1  2 43  2  2]\n",
      " [ 3  0  1  1  0  2 49  1]\n",
      " [ 3  0  1  0  0  1  0 42]]\n",
      "accuracy 0.9036144578313253\n",
      "precision 0.911780120173783\n",
      "recall 0.9059259573883622\n",
      "f1_score 0.9048246364176853\n"
     ]
    },
    {
     "data": {
      "image/png": "[encoded data removed]",
      "text/plain": [
       "<Figure size 432x288 with 2 Axes>"
      ]
     },
     "metadata": {
      "needs_background": "light"
     },
     "output_type": "display_data"
    }
   ],
   "source": [
    "from sklearn.multiclass import OneVsOneClassifier\n",
    "from sklearn.svm import LinearSVC\n",
    "from sklearn.metrics import f1_score\n",
    "# ['chess', 'cricket', 'soccer', 'football', '%22forest%20fire%22', 'flood', 'earthquake', 'drought']\n",
    "\n",
    "clf = OneVsOneClassifier(LinearSVC(random_state=0)).fit(reduced_train_matrix, y_train)\n",
    "y_pred = clf.predict(reduced_test_matrix)\n",
    "confusion_matrix_one_vs_one = metrics.confusion_matrix(y_test, y_pred, labels=labels)\n",
    "accuracy = accuracy_score(y_test, y_pred)\n",
    "precision = precision_score(y_test, y_pred, average='macro')\n",
    "recall = recall_score(y_test, y_pred, average='macro')\n",
    "f1_score = f1_score(y_test, y_pred, average='macro')\n",
    "\n",
    "plot_confusion_matrix(clf, reduced_test_matrix, y_test, labels=labels) \n",
    "plt.xticks(rotation = 45) \n",
    "\n",
    "print(\"The following is the evaluation of One VS One SVM\")\n",
    "print(\"confusion matrix of:\")\n",
    "print(confusion_matrix_one_vs_one)\n",
    "print(\"accuracy\", accuracy)\n",
    "print(\"precision\", precision)\n",
    "print(\"recall\", recall)\n",
    "print(\"f1_score\", f1_score)"
   ]
  },
  {
   "cell_type": "code",
   "execution_count": 44,
   "metadata": {},
   "outputs": [
    {
     "name": "stderr",
     "output_type": "stream",
     "text": [
      "/Users/zacyou/Library/Python/3.8/lib/python/site-packages/sklearn/utils/deprecation.py:87: FutureWarning: Function plot_confusion_matrix is deprecated; Function `plot_confusion_matrix` is deprecated in 1.0 and will be removed in 1.2. Use one of the class methods: ConfusionMatrixDisplay.from_predictions or ConfusionMatrixDisplay.from_estimator.\n",
      "  warnings.warn(msg, category=FutureWarning)\n"
     ]
    },
    {
     "name": "stdout",
     "output_type": "stream",
     "text": [
      "The following is the evaluation of One VS Rest SVM\n",
      "confusion matrix:\n",
      "[[44  0  1  0  0  0  1  0]\n",
      " [ 0 49  0  0  0  0  0  1]\n",
      " [ 4  1 53  0  0  0  0  0]\n",
      " [ 2  0  1 52  0  0  0  0]\n",
      " [ 1  0  1  0 46  0  1  0]\n",
      " [ 2  0  1  0  2 44  2  2]\n",
      " [ 1  0  1  1  0  1 52  1]\n",
      " [ 3  1  1  0  0  0  0 42]]\n",
      "accuracy 0.9204819277108434\n",
      "precision 0.9237346645559705\n",
      "recall 0.9213289125642002\n",
      "f1_score 0.920450551420133\n"
     ]
    },
    {
     "data": {
      "image/png": "[encoded data removed]",
      "text/plain": [
       "<Figure size 432x288 with 2 Axes>"
      ]
     },
     "metadata": {
      "needs_background": "light"
     },
     "output_type": "display_data"
    }
   ],
   "source": [
    "from sklearn.naive_bayes import MultinomialNB\n",
    "from sklearn.multiclass import OneVsRestClassifier\n",
    "from sklearn.metrics import f1_score\n",
    "\n",
    "clf = OneVsRestClassifier(SVC(class_weight='balanced')).fit(reduced_train_matrix, y_train)\n",
    "y_pred = clf.predict(reduced_test_matrix)\n",
    "confusion_matrix_one_vs_rest = metrics.confusion_matrix(y_test, y_pred, labels=labels)\n",
    "\n",
    "accuracy = accuracy_score(y_test, y_pred)\n",
    "precision = precision_score(y_test, y_pred, average='macro')\n",
    "recall = recall_score(y_test, y_pred, average='macro')\n",
    "f1_score = f1_score(y_test, y_pred, average='macro')\n",
    "\n",
    "plot_confusion_matrix(clf, reduced_test_matrix, y_test, labels=labels) \n",
    "plt.xticks(rotation = 45) \n",
    "\n",
    "print(\"The following is the evaluation of One VS Rest SVM\")\n",
    "print(\"confusion matrix:\")\n",
    "print(confusion_matrix_one_vs_rest)\n",
    "print(\"accuracy\", accuracy)\n",
    "print(\"precision\", precision)\n",
    "print(\"recall\", recall)\n",
    "print(\"f1_score\", f1_score)\n"
   ]
  },
  {
   "cell_type": "markdown",
   "metadata": {},
   "source": [
    "##### Part 2 Based on your observation from the previous part, suggest a subset of labels that should be merged into a new larger label and recompute the accuracy and plot the confusion matrix. "
   ]
  },
  {
   "cell_type": "code",
   "execution_count": 45,
   "metadata": {},
   "outputs": [
    {
     "name": "stdout",
     "output_type": "stream",
     "text": [
      "213 46\n",
      "405\n"
     ]
    }
   ],
   "source": [
    "labels = ['chess', 'cricket', 'balls' ,'%22forest%20fire%22', 'flood', 'earthquake', 'drought']\n",
    "# labels = ['chess', 'cricket', 'soccer', 'football', '%22forest%20fire%22', 'flood', 'earthquake', 'drought']\n",
    "\n",
    "train_index = []\n",
    "test_index = []\n",
    "ctn1 = 0\n",
    "ctn2 = 0\n",
    "\n",
    "for i in range(len(y_train)):\n",
    "    if y_train[i] == \"football\" or y_train[i] == \"soccer\":\n",
    "        train_index.append(i)\n",
    "        y_train[i] = \"balls\"\n",
    "    if y_train[i] == \"chess\":\n",
    "        ctn1+=1\n",
    "\n",
    "for i in range(len(y_test)):\n",
    "    if y_test[i] == \"football\" or y_test[i] == \"soccer\":\n",
    "        test_index.append(i)\n",
    "        y_test[i] = \"balls\"\n",
    "    if y_test[i] == \"chess\":\n",
    "        ctn2+=1\n",
    "\n",
    "\n",
    "\n",
    "\n",
    "print(ctn1, ctn2)\n",
    "print(y_train.count(\"balls\"))\n"
   ]
  },
  {
   "cell_type": "code",
   "execution_count": 46,
   "metadata": {},
   "outputs": [
    {
     "name": "stderr",
     "output_type": "stream",
     "text": [
      "/Users/zacyou/Library/Python/3.8/lib/python/site-packages/sklearn/utils/deprecation.py:87: FutureWarning: Function plot_confusion_matrix is deprecated; Function `plot_confusion_matrix` is deprecated in 1.0 and will be removed in 1.2. Use one of the class methods: ConfusionMatrixDisplay.from_predictions or ConfusionMatrixDisplay.from_estimator.\n",
      "  warnings.warn(msg, category=FutureWarning)\n"
     ]
    },
    {
     "name": "stdout",
     "output_type": "stream",
     "text": [
      "confusion matrix:\n",
      "[[ 44   0   1   0   0   1   0]\n",
      " [  0  48   1   0   0   0   1]\n",
      " [  5   1 107   0   0   0   0]\n",
      " [  2   0   1  46   0   0   0]\n",
      " [  3   0   1   2  43   2   2]\n",
      " [  3   0   2   0   2  49   1]\n",
      " [  3   0   1   0   1   0  42]]\n",
      "accuracy 0.9132530120481928\n",
      "precision 0.9142841105562349\n",
      "recall 0.9095409718574808\n",
      "f1_score 0.9088665398097907\n"
     ]
    },
    {
     "data": {
      "image/png": "[encoded data removed]",
      "text/plain": [
       "<Figure size 432x288 with 2 Axes>"
      ]
     },
     "metadata": {
      "needs_background": "light"
     },
     "output_type": "display_data"
    }
   ],
   "source": [
    "from sklearn.metrics import f1_score\n",
    "clf = OneVsOneClassifier(LinearSVC(random_state=0)).fit(reduced_train_matrix, y_train)\n",
    "y_pred = clf.predict(reduced_test_matrix)\n",
    "confusion_matrix_one_vs_one = metrics.confusion_matrix(y_test, y_pred, labels=labels)\n",
    "accuracy = accuracy_score(y_test, y_pred)\n",
    "precision = precision_score(y_test, y_pred, average='macro')\n",
    "recall = recall_score(y_test, y_pred, average='macro')\n",
    "f1_score = f1_score(y_test, y_pred, average='macro')\n",
    "\n",
    "plot_confusion_matrix(clf, reduced_test_matrix, y_test, labels=labels) \n",
    "plt.xticks(rotation = 45) \n",
    "\n",
    "print(\"confusion matrix:\")\n",
    "print(confusion_matrix_one_vs_one)\n",
    "print(\"accuracy\", accuracy)\n",
    "print(\"precision\", precision)\n",
    "print(\"recall\", recall)\n",
    "print(\"f1_score\", f1_score)"
   ]
  },
  {
   "cell_type": "code",
   "execution_count": 47,
   "metadata": {},
   "outputs": [
    {
     "name": "stderr",
     "output_type": "stream",
     "text": [
      "/Users/zacyou/Library/Python/3.8/lib/python/site-packages/sklearn/utils/deprecation.py:87: FutureWarning: Function plot_confusion_matrix is deprecated; Function `plot_confusion_matrix` is deprecated in 1.0 and will be removed in 1.2. Use one of the class methods: ConfusionMatrixDisplay.from_predictions or ConfusionMatrixDisplay.from_estimator.\n",
      "  warnings.warn(msg, category=FutureWarning)\n"
     ]
    },
    {
     "name": "stdout",
     "output_type": "stream",
     "text": [
      "confusion matrix:\n",
      "[[ 44   0   1   0   0   1   0]\n",
      " [  0  49   0   0   0   0   1]\n",
      " [  5   2 106   0   0   0   0]\n",
      " [  1   0   1  46   0   1   0]\n",
      " [  2   0   1   2  44   2   2]\n",
      " [  1   0   2   0   1  52   1]\n",
      " [  3   1   1   0   0   0  42]]\n",
      "accuracy 0.9228915662650602\n",
      "precision 0.9217395096277083\n",
      "recall 0.921348106993702\n",
      "f1_score 0.9193920306657597\n"
     ]
    },
    {
     "data": {
      "image/png": "[encoded data removed]",
      "text/plain": [
       "<Figure size 432x288 with 2 Axes>"
      ]
     },
     "metadata": {
      "needs_background": "light"
     },
     "output_type": "display_data"
    }
   ],
   "source": [
    "from sklearn.metrics import f1_score\n",
    "\n",
    "clf = OneVsRestClassifier(SVC(class_weight='balanced')).fit(reduced_train_matrix, y_train)\n",
    "y_pred = clf.predict(reduced_test_matrix)\n",
    "confusion_matrix_one_vs_rest = metrics.confusion_matrix(y_test, y_pred, labels=labels)\n",
    "\n",
    "accuracy = accuracy_score(y_test, y_pred)\n",
    "precision = precision_score(y_test, y_pred, average='macro')\n",
    "recall = recall_score(y_test, y_pred, average='macro')\n",
    "f1_score = f1_score(y_test, y_pred, average='macro')\n",
    "\n",
    "plot_confusion_matrix(clf, reduced_test_matrix, y_test, labels=labels) \n",
    "plt.xticks(rotation = 45) \n",
    "\n",
    "print(\"confusion matrix:\")\n",
    "print(confusion_matrix_one_vs_rest)\n",
    "print(\"accuracy\", accuracy)\n",
    "print(\"precision\", precision)\n",
    "print(\"recall\", recall)\n",
    "print(\"f1_score\", f1_score)\n"
   ]
  },
  {
   "cell_type": "markdown",
   "metadata": {},
   "source": [
    "##### How did the accuracy change in One vS One and One VS the rest?"
   ]
  },
  {
   "cell_type": "markdown",
   "metadata": {},
   "source": [
    "Based on our observation from the confusion matrices, we grouped the sublabels \"soccer\" and \"football\" into one label \"balls\" and recomputed both classifiers. We observe the improved higher accuracy in both the One vs One and One vs Rest classifiers, which makes sense as by combining the two semantically-close label classes we are helping the classifiers' performance."
   ]
  },
  {
   "cell_type": "markdown",
   "metadata": {},
   "source": [
    "##### Part 3. Does class imbalance impact the performance of the classification once some classes are merged? Provide a resolution for the class imbalance and recompute the accuracy and plot the confusion matrix."
   ]
  },
  {
   "cell_type": "code",
   "execution_count": 48,
   "metadata": {},
   "outputs": [
    {
     "name": "stdout",
     "output_type": "stream",
     "text": [
      "1457 365\n",
      "1457 365\n"
     ]
    }
   ],
   "source": [
    "new_train_index = []\n",
    "new_test_index = []\n",
    "for i in range(200):\n",
    "    y_train.remove('balls')\n",
    "    new_train_index.append(train_index[i])\n",
    "    \n",
    "reduced_train_matrix_for_test = np.delete(reduced_train_matrix_for_test, new_train_index, axis=0) \n",
    "for i in range(50):\n",
    "    y_test.remove('balls')\n",
    "    new_test_index.append(test_index[i])\n",
    "\n",
    "reduced_test_matrix_for_test = np.delete(reduced_test_matrix_for_test, new_test_index, axis=0) \n",
    "\n",
    "print(len(y_train), len(y_test))\n",
    "print(len(reduced_train_matrix_for_test), len(reduced_test_matrix_for_test))\n"
   ]
  },
  {
   "cell_type": "code",
   "execution_count": 49,
   "metadata": {},
   "outputs": [
    {
     "name": "stderr",
     "output_type": "stream",
     "text": [
      "/Users/zacyou/Library/Python/3.8/lib/python/site-packages/sklearn/utils/deprecation.py:87: FutureWarning: Function plot_confusion_matrix is deprecated; Function `plot_confusion_matrix` is deprecated in 1.0 and will be removed in 1.2. Use one of the class methods: ConfusionMatrixDisplay.from_predictions or ConfusionMatrixDisplay.from_estimator.\n",
      "  warnings.warn(msg, category=FutureWarning)\n"
     ]
    },
    {
     "name": "stdout",
     "output_type": "stream",
     "text": [
      "confusion matrix:\n",
      "[[44  0  0  1  0  1  0]\n",
      " [ 0 49  0  0  0  0  1]\n",
      " [ 6  1 56  0  0  0  0]\n",
      " [ 2  0  1 46  0  0  0]\n",
      " [ 3  0  0  3 43  2  2]\n",
      " [ 3  0  2  0  2 49  1]\n",
      " [ 3  0  1  0  1  0 42]]\n",
      "accuracy 0.9013698630136986\n",
      "precision 0.906396941143912\n",
      "recall 0.9041104338605714\n",
      "f1_score 0.9018981693531233\n"
     ]
    },
    {
     "data": {
      "image/png": "[encoded data removed]",
      "text/plain": [
       "<Figure size 432x288 with 2 Axes>"
      ]
     },
     "metadata": {
      "needs_background": "light"
     },
     "output_type": "display_data"
    }
   ],
   "source": [
    "from sklearn.metrics import f1_score\n",
    "\n",
    "clf = OneVsOneClassifier(LinearSVC(random_state=0)).fit(reduced_train_matrix_for_test, y_train)\n",
    "y_pred = clf.predict(reduced_test_matrix_for_test)\n",
    "confusion_matrix_one_vs_one = metrics.confusion_matrix(y_test, y_pred, labels=labels)\n",
    "accuracy = accuracy_score(y_test, y_pred)\n",
    "precision = precision_score(y_test, y_pred, average='macro')\n",
    "recall = recall_score(y_test, y_pred, average='macro')\n",
    "f1_score = f1_score(y_test, y_pred, average='macro')\n",
    "\n",
    "plot_confusion_matrix(clf, reduced_test_matrix_for_test, y_test, labels=labels) \n",
    "plt.xticks(rotation = 45) \n",
    "\n",
    "print(\"confusion matrix:\")\n",
    "print(confusion_matrix_one_vs_one)\n",
    "print(\"accuracy\", accuracy)\n",
    "print(\"precision\", precision)\n",
    "print(\"recall\", recall)\n",
    "print(\"f1_score\", f1_score)"
   ]
  },
  {
   "cell_type": "code",
   "execution_count": 50,
   "metadata": {},
   "outputs": [
    {
     "name": "stderr",
     "output_type": "stream",
     "text": [
      "/Users/zacyou/Library/Python/3.8/lib/python/site-packages/sklearn/utils/deprecation.py:87: FutureWarning: Function plot_confusion_matrix is deprecated; Function `plot_confusion_matrix` is deprecated in 1.0 and will be removed in 1.2. Use one of the class methods: ConfusionMatrixDisplay.from_predictions or ConfusionMatrixDisplay.from_estimator.\n",
      "  warnings.warn(msg, category=FutureWarning)\n"
     ]
    },
    {
     "name": "stdout",
     "output_type": "stream",
     "text": [
      "confusion matrix:\n",
      "[[44  1  0  0  0  1  0]\n",
      " [ 0 49  0  0  0  0  1]\n",
      " [ 7  1 55  0  0  0  0]\n",
      " [ 1  0  1 46  0  1  0]\n",
      " [ 3  1  0  2 43  2  2]\n",
      " [ 1  0  2  0  1 52  1]\n",
      " [ 3  1  1  0  0  0 42]]\n",
      "accuracy 0.9068493150684932\n",
      "precision 0.9113879101457237\n",
      "recall 0.9093616571569074\n",
      "f1_score 0.9071174611687708\n"
     ]
    },
    {
     "data": {
      "image/png": "[encoded data removed]",
      "text/plain": [
       "<Figure size 432x288 with 2 Axes>"
      ]
     },
     "metadata": {
      "needs_background": "light"
     },
     "output_type": "display_data"
    }
   ],
   "source": [
    "from sklearn.metrics import f1_score\n",
    "\n",
    "clf = OneVsRestClassifier(SVC(class_weight='balanced')).fit(reduced_train_matrix_for_test, y_train)\n",
    "y_pred = clf.predict(reduced_test_matrix_for_test)\n",
    "confusion_matrix_one_vs_rest = metrics.confusion_matrix(y_test, y_pred, labels=labels)\n",
    "\n",
    "accuracy = accuracy_score(y_test, y_pred)\n",
    "precision = precision_score(y_test, y_pred, average='macro')\n",
    "recall = recall_score(y_test, y_pred, average='macro')\n",
    "f1_score = f1_score(y_test, y_pred, average='macro')\n",
    "\n",
    "plot_confusion_matrix(clf, reduced_test_matrix_for_test, y_test, labels=labels) \n",
    "plt.xticks(rotation = 45) \n",
    "\n",
    "print(\"confusion matrix:\")\n",
    "print(confusion_matrix_one_vs_rest)\n",
    "print(\"accuracy\", accuracy)\n",
    "print(\"precision\", precision)\n",
    "print(\"recall\", recall)\n",
    "print(\"f1_score\", f1_score)\n"
   ]
  },
  {
   "cell_type": "markdown",
   "metadata": {},
   "source": [
    "Yes class imbalance does impact the performance of the classification once some classes are merged. It will result in a higher accuracy. Because the merged class labels have many more datasets than other classes. Having high accuracy caused by imbalanced classes does not mean our classifiers are doing a great job. For instance, a dataset with 90% of data points coming from A and 10% of data points coming from B would yield an accuracy of 90% in predicting A, when in reality it is just the unfair amount of labeling distribution. One solution we proposed was to remove some data from the bigger class to match with the size of the rest of classes. From the observation, our classifiers's accuracy decreased a little, which is reasonable as we balanced our classes"
   ]
  },
  {
   "cell_type": "markdown",
   "metadata": {},
   "source": [
    "## Word Embedding"
   ]
  },
  {
   "cell_type": "markdown",
   "metadata": {},
   "source": [
    "### Question 10"
   ]
  },
  {
   "cell_type": "markdown",
   "metadata": {},
   "source": [
    "##### part (a) Why are GLoVE embeddings trained on the ratio of co-occurrence probabilities rather than the probabilities themselves?"
   ]
  },
  {
   "cell_type": "markdown",
   "metadata": {},
   "source": [
    "Because using only statistical information will fail to capture certain aspects of meaning, for example relevance between words. Models trained solely on probabilities of word distribution perform poorly on word analogy task because it would be affected by the possible noise and make it hard to find the relevant words. In other words, the ratio of co-occurrence probabilities are better for us to separate the groups of contextual words relavant to the target words; if the group of words are more related to the target words in the numerator of the ratio, it will be large and if the group of words are more related to the target words in the numerator of the rator, it will be small, and lastly, if the words are not neither related to the targets words in the denominator nor the numerator, the ratio would just purely be close to 1."
   ]
  },
  {
   "cell_type": "markdown",
   "metadata": {},
   "source": [
    "##### part (b) n the two sentences: “James is running in the park.” and “James is running for the presidency.”, would GLoVE embeddings return the same vector for the word running in both cases? Why or why not?"
   ]
  },
  {
   "cell_type": "markdown",
   "metadata": {},
   "source": [
    "The vectors in both context would be the same. Because GLoVE is trained on the co-occurrence matrix, which only counts the occurrences of other words in the context of running. In this case, both sentences will be leveraged into the matrix and the model will treat them in the same manner. Therefore, the ultimate word vector of \"running\" would be the same."
   ]
  },
  {
   "cell_type": "markdown",
   "metadata": {},
   "source": [
    "##### part (c) What do you expect for the values of,||GLoVE[\"queen\"] - GLoVE[\"king\"] - GLoVE[\"wife\"] + GLoVE[\"husband\"]||2,||GLoVE[\"queen\"] - GLoVE[\"king\"]||2 and ||GLoVE[\"wife\"] - GLoVE[\"husband\"]||2 ? Compare these values."
   ]
  },
  {
   "cell_type": "code",
   "execution_count": 51,
   "metadata": {},
   "outputs": [],
   "source": [
    "import numpy as np\n",
    "embeddings_dict = {}\n",
    "dimension_of_glove = 300\n",
    "with open(\"glove/glove.6B.300d.txt\", 'r', encoding=\"utf-8\") as f:\n",
    "    for line in f:\n",
    "        values = line.split()\n",
    "        word = values[0]\n",
    "        vector = np.asarray(values[1:], \"float32\")\n",
    "        embeddings_dict[word] = vector\n",
    "queen = embeddings_dict[\"queen\"]\n",
    "king = embeddings_dict[\"king\"]\n",
    "wife = embeddings_dict[\"wife\"]\n",
    "husband = embeddings_dict[\"husband\"]\n",
    "\n"
   ]
  },
  {
   "cell_type": "code",
   "execution_count": 52,
   "metadata": {},
   "outputs": [
    {
     "name": "stdout",
     "output_type": "stream",
     "text": [
      "6.1650367 5.966258 3.1520464\n"
     ]
    }
   ],
   "source": [
    "e1 = np.linalg.norm(queen-king-wife+husband, ord=2)\n",
    "e2 = np.linalg.norm(queen-king, ord=2)\n",
    "e3 = np.linalg.norm(wife-husband, ord=2)\n",
    "print(e1, e2, e3)"
   ]
  },
  {
   "cell_type": "markdown",
   "metadata": {},
   "source": [
    "The three norms are printed above. To reason about this, we have to keep in mind that GLoVE carries the semantic meaning and relation of words. Intuitively, husband/wife are more closely related than king/queen, as the two pairs are both man/woman and married in this sense, but king/queen also carries the subcontext of royalness. Denote the norm of \"queen-king-wife+husband\", \"queen-king\" and \"wife-husband\" to be e1, e2 and e3, respectively. Therefore, we can infer that husband/wife are closer to each other than king/queen as e3 is smaller than e2. The also explains why e2 is close to e1 because between e3 and e2, e2 is the bigger one; therefore, e2 is naturally closer to the sum of the two vectors represented by e1. "
   ]
  },
  {
   "cell_type": "markdown",
   "metadata": {},
   "source": [
    "##### part (d) Given a word, would you rather stem or lemmatize the word before mapping it to its GLoVE embedding?"
   ]
  },
  {
   "cell_type": "markdown",
   "metadata": {},
   "source": [
    "We would lemmatize the word, because stem will tend to break the structure of the word and we will not be able to capture its context meaning; on the other hand, lemmatize will compress the word given its position tag which grants us its original meaning. Plus, GLoVE's mapping requires recognizable English words. "
   ]
  },
  {
   "cell_type": "markdown",
   "metadata": {},
   "source": [
    "### Question 11"
   ]
  },
  {
   "cell_type": "markdown",
   "metadata": {},
   "source": [
    "##### part (a) Describe a feature engineering process that uses GLoVE word embeddings to represent each document."
   ]
  },
  {
   "cell_type": "markdown",
   "metadata": {},
   "source": [
    "We can still use the full_text to construct the sentence vectors based on GLoVE embeddings. For a given full text, we add all the GLoVE embeddings of its words and normalize the final vector by its norm. "
   ]
  },
  {
   "cell_type": "markdown",
   "metadata": {},
   "source": [
    "##### part (b) Select a classifier model, train and evaluate it with your GLoVE-based feature."
   ]
  },
  {
   "cell_type": "code",
   "execution_count": 53,
   "metadata": {},
   "outputs": [],
   "source": [
    "def get_sentence_embeddings(glove_dimension):\n",
    "    embeddings_dict = {}\n",
    "    dimension_of_glove = glove_dimension\n",
    "    with open(\"glove/glove.6B.\" + str(glove_dimension) + \"d.txt\", 'r', encoding=\"utf-8\") as f:\n",
    "        for line in f:\n",
    "            values = line.split()\n",
    "            word = values[0]\n",
    "            vector = np.asarray(values[1:], \"float32\")\n",
    "            embeddings_dict[word] = vector\n",
    "\n",
    "    sentence_representation_train = []\n",
    "    sentence_representation_test = []\n",
    "\n",
    "    for text in train_texts:\n",
    "        cur_vec = np.zeros(dimension_of_glove)\n",
    "        for word in text.split():\n",
    "            cur_vec += embeddings_dict.get(word, np.zeros(dimension_of_glove))\n",
    "        cur_vec /= np.linalg.norm(cur_vec)\n",
    "        sentence_representation_train.append(cur_vec)\n",
    "    for text in test_texts:\n",
    "        cur_vec = np.zeros(dimension_of_glove)\n",
    "        for word in text.split():\n",
    "            cur_vec += embeddings_dict.get(word, np.zeros(dimension_of_glove))\n",
    "        cur_vec /= np.linalg.norm(cur_vec)\n",
    "        sentence_representation_test.append(cur_vec)\n",
    "\n",
    "    sentence_representation_train = np.array(sentence_representation_train)\n",
    "    sentence_representation_test = np.array(sentence_representation_test)\n",
    "    return sentence_representation_train, sentence_representation_test\n"
   ]
  },
  {
   "cell_type": "code",
   "execution_count": 54,
   "metadata": {},
   "outputs": [
    {
     "name": "stdout",
     "output_type": "stream",
     "text": [
      "0.9493975903614458\n"
     ]
    }
   ],
   "source": [
    "from sklearn.svm import SVC\n",
    "\n",
    "train_sentence_vectors, test_sentence_vectors = get_sentence_embeddings(300)\n",
    "\n",
    "svc = SVC(kernel='linear', C=best_y, probability=True)\n",
    "svc.fit(train_sentence_vectors, train_labels)\n",
    "print(svc.score(test_sentence_vectors, test_labels))"
   ]
  },
  {
   "cell_type": "markdown",
   "metadata": {},
   "source": [
    "##### Part 1\n",
    "For each train data, we sum the GLoVE vector of each word in the full text and then normalize it and obtain the new feature vector for each training data. This method follows all the rules mentioned in spec.\n",
    "\n",
    "##### Part 2\n",
    "We use SVM with the best gamma value found before on this GLoVE-based feature. The accuracy is pretty good, which is 0.949 as shown above."
   ]
  },
  {
   "cell_type": "markdown",
   "metadata": {},
   "source": [
    "### Question 12"
   ]
  },
  {
   "cell_type": "code",
   "execution_count": 55,
   "metadata": {},
   "outputs": [
    {
     "data": {
      "image/png": "[encoded data removed]",
      "text/plain": [
       "<Figure size 432x288 with 1 Axes>"
      ]
     },
     "metadata": {
      "needs_background": "light"
     },
     "output_type": "display_data"
    }
   ],
   "source": [
    "glove_dimensions = [50, 100, 200, 300]\n",
    "accuracy_list = []\n",
    "for dimension in glove_dimensions:\n",
    "    train_sentence_vectors, test_sentence_vectors = get_sentence_embeddings(dimension)\n",
    "    svc = SVC(kernel='linear', C=best_y, probability=True)\n",
    "    svc.fit(train_sentence_vectors, train_labels)\n",
    "    accuracy_list.append(svc.score(test_sentence_vectors, test_labels))\n",
    "plt.plot(glove_dimensions, accuracy_list)\n",
    "plt.show()"
   ]
  },
  {
   "cell_type": "markdown",
   "metadata": {},
   "source": [
    "##### Describe the observed trend. Is this trend expected? Why or why not? In this part use the different sets of GLoVE vectors from the link."
   ]
  },
  {
   "cell_type": "markdown",
   "metadata": {},
   "source": [
    "When the dimension of the GLoVE embedding increases, the accuracy also increases, and after the dimension of the GLoVE reaches 200, the accuracy reaches its highest value and the accuracy stays unchange afterwards. This trend is expected, because before reaching the highest accuracy, a higher dimension of GLoVE may carry more information of individual words, which in term gives more information to the aggregated document vector and facilitates the classification task."
   ]
  },
  {
   "cell_type": "markdown",
   "metadata": {},
   "source": [
    "### Question 13"
   ]
  },
  {
   "cell_type": "markdown",
   "metadata": {},
   "source": [
    "##### Compare and contrast the two visualizations. Are there clusters formed in either or both of the plots?"
   ]
  },
  {
   "cell_type": "code",
   "execution_count": 56,
   "metadata": {},
   "outputs": [],
   "source": [
    "train_sentence_vectors, _ = get_sentence_embeddings(300)"
   ]
  },
  {
   "cell_type": "code",
   "execution_count": 57,
   "metadata": {},
   "outputs": [],
   "source": [
    "import umap.umap_ as umap\n",
    "mapper = umap.UMAP().fit(train_sentence_vectors)\n",
    "\n",
    "# umap.plot.points(mapper, labels=train_labels)"
   ]
  },
  {
   "cell_type": "code",
   "execution_count": 58,
   "metadata": {},
   "outputs": [
    {
     "name": "stdout",
     "output_type": "stream",
     "text": [
      "(1657, 2)\n"
     ]
    },
    {
     "data": {
      "text/plain": [
       "<AxesSubplot:>"
      ]
     },
     "execution_count": 58,
     "metadata": {},
     "output_type": "execute_result"
    },
    {
     "data": {
      "image/png": "[encoded data removed]",
      "text/plain": [
       "<Figure size 800x800 with 1 Axes>"
      ]
     },
     "metadata": {},
     "output_type": "display_data"
    }
   ],
   "source": [
    "print(mapper.embedding_.shape)\n",
    "import umap.plot\n",
    "\n",
    "umap.plot.points(mapper, labels=np.array(train_labels))"
   ]
  },
  {
   "cell_type": "code",
   "execution_count": 59,
   "metadata": {},
   "outputs": [
    {
     "name": "stderr",
     "output_type": "stream",
     "text": [
      "*c* argument looks like a single numeric RGB or RGBA sequence, which should be avoided as value-mapping will have precedence in case its length matches with *x* & *y*.  Please use the *color* keyword-argument or provide a 2D array with a single row if you intend to specify the same RGB or RGBA value for all points.\n"
     ]
    },
    {
     "data": {
      "text/plain": [
       "<AxesSubplot:>"
      ]
     },
     "execution_count": 59,
     "metadata": {},
     "output_type": "execute_result"
    },
    {
     "data": {
      "image/png": "[encoded data removed]",
      "text/plain": [
       "<Figure size 800x800 with 1 Axes>"
      ]
     },
     "metadata": {},
     "output_type": "display_data"
    }
   ],
   "source": [
    "random_vect = np.random.normal(0, 1, [1657, 300])\n",
    "mapper = umap.UMAP().fit(random_vect)\n",
    "\n",
    "umap.plot.points(mapper)"
   ]
  },
  {
   "cell_type": "markdown",
   "metadata": {},
   "source": [
    "As we can see from the visualizations, the first graph where we visualize the GLoVE based features for the labels climate and sports, we can observe the obvious clusters formed on the 2D plane. It indicates that our GLoVE embeddings are doing a good job at distinguishing features to train the classifiers. From the second visualization where we visualize the GLoVE for random vectors with the same dimensions as the documents, we do not observe any clusters."
   ]
  }
 ],
 "metadata": {
  "kernelspec": {
   "display_name": "Python 3",
   "language": "python",
   "name": "python3"
  },
  "language_info": {
   "codemirror_mode": {
    "name": "ipython",
    "version": 3
   },
   "file_extension": ".py",
   "mimetype": "text/x-python",
   "name": "python",
   "nbconvert_exporter": "python",
   "pygments_lexer": "ipython3",
   "version": "3.8.2"
  }
 },
 "nbformat": 4,
 "nbformat_minor": 4
}
